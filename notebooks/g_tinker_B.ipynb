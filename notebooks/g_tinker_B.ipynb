{
 "cells": [
  {
   "cell_type": "code",
   "execution_count": 190,
   "metadata": {},
   "outputs": [],
   "source": [
    "#Collect all the games with stats from 2008\n",
    "import pandas as pd\n",
    "import numpy as np\n",
    "pt = pd.read_csv(\"../data/B1_FavGames.csv\")\n",
    "KBBP = pd.read_csv(\"../data/B3_KPBPIBRP.csv\").fillna(0)\n",
    "pt = pt.loc[(pt['Year']>=2008) & (pt['Round'] !='PI')]\n",
    "pt['Round'] = pt['Round'].astype(int)\n",
    "pt = pt.iloc[:,0:10]\n",
    "pt['PFSeed'] = pt['AFSeed']\n",
    "pt['PFTeam'] = pt['AFTeam']\n",
    "pt['PFScore'] = pt['AFScore']\n",
    "pt['PUSeed'] = pt['AUSeed']\n",
    "pt['PUTeam'] = pt['AUTeam']\n",
    "pt['PUScore'] = pt['AUScore']\n",
    "ptf = pt.merge(KBBP, left_on=['Year','PFTeam'],right_on=['Year','Team'],how='left')\n",
    "ptb = ptf.merge(KBBP, left_on=['Year','PUTeam'],right_on=['Year','Team'],how='left')\n"
   ]
  },
  {
   "cell_type": "code",
   "execution_count": 191,
   "metadata": {},
   "outputs": [
    {
     "data": {
      "text/plain": [
       "Index(['Year', 'Round', 'Game', 'PFSeed', 'PUSeed', 'AdjEM_x', 'AdjO_x',\n",
       "       'AdjD_x', 'AdjT_x', 'SOSEM_x', 'SOSO_x', 'SOSD_x', 'BPIO_x', 'BPID_x',\n",
       "       'W_x', 'L_x', 'Pts_x', 'Opp_x', 'MOV_x', 'SOS_x', 'OSRS_x', 'DSRS_x',\n",
       "       'SRS_x', 'PASE_x', 'AdjEM_y', 'AdjO_y', 'AdjD_y', 'AdjT_y', 'SOSEM_y',\n",
       "       'SOSO_y', 'SOSD_y', 'BPIO_y', 'BPID_y', 'W_y', 'L_y', 'Pts_y', 'Opp_y',\n",
       "       'MOV_y', 'SOS_y', 'OSRS_y', 'DSRS_y', 'SRS_y', 'PASE_y'],\n",
       "      dtype='object')"
      ]
     },
     "execution_count": 191,
     "metadata": {},
     "output_type": "execute_result"
    }
   ],
   "source": [
    "# Build a model to predict Final Scores\n",
    "ptn = ptb.select_dtypes(exclude=['object'])\n",
    "expl = ptn.drop(['AFScore','AUScore', 'AFSeed', 'AUSeed','PFScore','PUScore'],axis=1)\n",
    "respF = ptn[['PFScore']]\n",
    "respU = ptn[['PUScore']]\n",
    "from sklearn.linear_model import ElasticNet\n",
    "enet_F = ElasticNet(alpha=.284,l1_ratio=.5)\n",
    "enet_F.fit(expl,respF)\n",
    "enet_U = ElasticNet(alpha=.39,l1_ratio=.5)\n",
    "enet_U.fit(expl,respU)\n",
    "expl.columns\n"
   ]
  },
  {
   "cell_type": "code",
   "execution_count": 192,
   "metadata": {},
   "outputs": [
    {
     "data": {
      "text/plain": [
       "2009"
      ]
     },
     "execution_count": 192,
     "metadata": {},
     "output_type": "execute_result"
    }
   ],
   "source": [
    "# Pick a random Year\n",
    "from random import choice\n",
    "p_year = choice([i for i in range(2008,2021) if i not in [2020]])\n",
    "p_year"
   ]
  },
  {
   "cell_type": "code",
   "execution_count": 193,
   "metadata": {},
   "outputs": [],
   "source": [
    "# Start with p_year bracket with stats\n",
    "pty = pt[pt['Year']==p_year]\n",
    "pty.index = pty.Game"
   ]
  },
  {
   "cell_type": "code",
   "execution_count": 194,
   "metadata": {},
   "outputs": [
    {
     "name": "stderr",
     "output_type": "stream",
     "text": [
      "C:\\Users\\harmk\\AppData\\Local\\Programs\\Python\\Python39\\lib\\site-packages\\pandas\\core\\indexing.py:1817: SettingWithCopyWarning: \n",
      "A value is trying to be set on a copy of a slice from a DataFrame.\n",
      "Try using .loc[row_indexer,col_indexer] = value instead\n",
      "\n",
      "See the caveats in the documentation: https://pandas.pydata.org/pandas-docs/stable/user_guide/indexing.html#returning-a-view-versus-a-copy\n",
      "  self._setitem_single_column(loc, value, pi)\n",
      "C:\\Users\\harmk\\AppData\\Local\\Programs\\Python\\Python39\\lib\\site-packages\\pandas\\core\\indexing.py:1684: SettingWithCopyWarning: \n",
      "A value is trying to be set on a copy of a slice from a DataFrame.\n",
      "Try using .loc[row_indexer,col_indexer] = value instead\n",
      "\n",
      "See the caveats in the documentation: https://pandas.pydata.org/pandas-docs/stable/user_guide/indexing.html#returning-a-view-versus-a-copy\n",
      "  self.obj[key] = infer_fill_value(value)\n"
     ]
    }
   ],
   "source": [
    "# Build Round 1\n",
    "pty1 = pty[pty['Round']==1]\n",
    "pty1 = pty1.merge(KBBP, left_on=['Year','PFTeam'],right_on=['Year','Team'],how='left')\n",
    "pty1 = pty1.merge(KBBP, left_on=['Year','PUTeam'],right_on=['Year','Team'],how='left')\n",
    "pty1n = pty1.select_dtypes(exclude=['object'])\n",
    "expl_R1 = pty1n.drop(['AFScore','AUScore', 'AFSeed', 'AUSeed','PFScore','PUScore'],axis=1)\n",
    "respF_R1 = enet_F.predict(expl_R1)\n",
    "respU_R1 = enet_U.predict(expl_R1)\n",
    "for x in range(1,33):\n",
    "    pty.loc[x,'PFScore'] = np.around(respF_R1[x-1],3)\n",
    "    pty.loc[x,'PUScore'] = np.around(respU_R1[x-1],3)\n",
    "    pty.loc[x,'AWSeed'] = np.where(pty.loc[x,'AFScore']>=pty.loc[x,'AUScore'],pty.loc[x,'AFSeed'],pty.loc[x,'AUSeed'])\n",
    "    pty.loc[x,'AWTeam'] = np.where(pty.loc[x,'AFScore']>=pty.loc[x,'AUScore'],pty.loc[x,'AFTeam'],pty.loc[x,'AUTeam'])\n",
    "    pty.loc[x,'PWSeed'] = np.where(pty.loc[x,'PFScore']>=pty.loc[x,'PUScore'],pty.loc[x,'PFSeed'],pty.loc[x,'PUSeed'])\n",
    "    pty.loc[x,'PWTeam'] = np.where(pty.loc[x,'PFScore']>=pty.loc[x,'PUScore'],pty.loc[x,'PFTeam'],pty.loc[x,'PUTeam'])\n",
    "    pty.loc[x,'ESPN'] = np.where(pty.loc[x,'AWTeam']==pty.loc[x,'PWTeam'],10,0)\n"
   ]
  },
  {
   "cell_type": "code",
   "execution_count": 195,
   "metadata": {},
   "outputs": [
    {
     "name": "stderr",
     "output_type": "stream",
     "text": [
      "C:\\Users\\harmk\\AppData\\Local\\Programs\\Python\\Python39\\lib\\site-packages\\pandas\\core\\indexing.py:1817: SettingWithCopyWarning: \n",
      "A value is trying to be set on a copy of a slice from a DataFrame.\n",
      "Try using .loc[row_indexer,col_indexer] = value instead\n",
      "\n",
      "See the caveats in the documentation: https://pandas.pydata.org/pandas-docs/stable/user_guide/indexing.html#returning-a-view-versus-a-copy\n",
      "  self._setitem_single_column(loc, value, pi)\n",
      "C:\\Users\\harmk\\AppData\\Local\\Programs\\Python\\Python39\\lib\\site-packages\\pandas\\core\\indexing.py:1817: SettingWithCopyWarning: \n",
      "A value is trying to be set on a copy of a slice from a DataFrame.\n",
      "Try using .loc[row_indexer,col_indexer] = value instead\n",
      "\n",
      "See the caveats in the documentation: https://pandas.pydata.org/pandas-docs/stable/user_guide/indexing.html#returning-a-view-versus-a-copy\n",
      "  self._setitem_single_column(loc, value, pi)\n"
     ]
    }
   ],
   "source": [
    "# Build Round 2\n",
    "# pull the predicted winners from round 1 \n",
    "for x in range(1,17):\n",
    "    pty.loc[x+32,'PFSeed']=min((pty.loc[2*x-1,'PWSeed']),(pty.loc[2*x,'PWSeed']))\n",
    "    pty.loc[x+32,'PUSeed']=max((pty.loc[2*x-1,'PWSeed']),(pty.loc[2*x,'PWSeed']))\n",
    "    pty.loc[x+32,'PFTeam']=str(np.where((pty.loc[2*x-1,'PWSeed'])<(pty.loc[2*x,'PWSeed']),pty.loc[2*x-1,'PWTeam'],pty.loc[2*x,'PWTeam']))\n",
    "    pty.loc[x+32,'PUTeam']=str(np.where((pty.loc[2*x-1,'PWSeed'])>(pty.loc[2*x,'PWSeed']),pty.loc[2*x-1,'PWTeam'],pty.loc[2*x,'PWTeam']))  \n",
    "    \n",
    "# Now Mimic Round 1\n",
    "pty2 = pty[pty['Round']==2]\n",
    "pty2 = pty2.merge(KBBP, left_on=['Year','PFTeam'],right_on=['Year','Team'],how='left')\n",
    "pty2 = pty2.merge(KBBP, left_on=['Year','PUTeam'],right_on=['Year','Team'],how='left')\n",
    "pty2n = pty2.select_dtypes(exclude=['object'])\n",
    "expl_R2 = pty2n.drop(['AFScore','AUScore', 'AFSeed', 'AUSeed','PFScore','PUScore','AWSeed','PWSeed','ESPN'],axis=1)\n",
    "respF_R2 = enet_F.predict(expl_R2)\n",
    "respU_R2 = enet_U.predict(expl_R2)\n",
    "for x in range(33,49):\n",
    "    pty.loc[x,'PFScore'] = np.around(respF_R1[x-33],3)\n",
    "    pty.loc[x,'PUScore'] = np.around(respU_R1[x-33],3)\n",
    "    pty.loc[x,'AWSeed'] = np.where(pty.loc[x,'AFScore']>=pty.loc[x,'AUScore'],pty.loc[x,'AFSeed'],pty.loc[x,'AUSeed'])\n",
    "    pty.loc[x,'AWTeam'] = np.where(pty.loc[x,'AFScore']>=pty.loc[x,'AUScore'],pty.loc[x,'AFTeam'],pty.loc[x,'AUTeam'])\n",
    "    pty.loc[x,'PWSeed'] = np.where(pty.loc[x,'PFScore']>=pty.loc[x,'PUScore'],pty.loc[x,'PFSeed'],pty.loc[x,'PUSeed'])\n",
    "    pty.loc[x,'PWTeam'] = np.where(pty.loc[x,'PFScore']>=pty.loc[x,'PUScore'],pty.loc[x,'PFTeam'],pty.loc[x,'PUTeam'])\n",
    "    pty.loc[x,'ESPN'] = np.where(pty.loc[x,'AWTeam']==pty.loc[x,'PWTeam'],20,0)"
   ]
  },
  {
   "cell_type": "code",
   "execution_count": 196,
   "metadata": {},
   "outputs": [
    {
     "name": "stderr",
     "output_type": "stream",
     "text": [
      "C:\\Users\\harmk\\AppData\\Local\\Programs\\Python\\Python39\\lib\\site-packages\\pandas\\core\\indexing.py:1817: SettingWithCopyWarning: \n",
      "A value is trying to be set on a copy of a slice from a DataFrame.\n",
      "Try using .loc[row_indexer,col_indexer] = value instead\n",
      "\n",
      "See the caveats in the documentation: https://pandas.pydata.org/pandas-docs/stable/user_guide/indexing.html#returning-a-view-versus-a-copy\n",
      "  self._setitem_single_column(loc, value, pi)\n",
      "C:\\Users\\harmk\\AppData\\Local\\Programs\\Python\\Python39\\lib\\site-packages\\pandas\\core\\indexing.py:1817: SettingWithCopyWarning: \n",
      "A value is trying to be set on a copy of a slice from a DataFrame.\n",
      "Try using .loc[row_indexer,col_indexer] = value instead\n",
      "\n",
      "See the caveats in the documentation: https://pandas.pydata.org/pandas-docs/stable/user_guide/indexing.html#returning-a-view-versus-a-copy\n",
      "  self._setitem_single_column(loc, value, pi)\n"
     ]
    }
   ],
   "source": [
    "# Build Round 3\n",
    "# pull the predicted winners from round 2 \n",
    "for x in range(1,9):\n",
    "    pty.loc[x+48,'PFSeed']=min((pty.loc[2*x+31,'PWSeed']),(pty.loc[2*x+32,'PWSeed']))\n",
    "    pty.loc[x+48,'PUSeed']=max((pty.loc[2*x+31,'PWSeed']),(pty.loc[2*x+32,'PWSeed']))\n",
    "    pty.loc[x+48,'PFTeam']=str(np.where((pty.loc[2*x+31,'PWSeed'])<(pty.loc[2*x+32,'PWSeed']),pty.loc[2*x+31,'PWTeam'],pty.loc[2*x+32,'PWTeam']))\n",
    "    pty.loc[x+48,'PUTeam']=str(np.where((pty.loc[2*x+31,'PWSeed'])>(pty.loc[2*x+32,'PWSeed']),pty.loc[2*x+31,'PWTeam'],pty.loc[2*x+32,'PWTeam']))  \n",
    "# Now Mimic Round 2\n",
    "pty3 = pty[pty['Round']==3]\n",
    "pty3 = pty3.merge(KBBP, left_on=['Year','PFTeam'],right_on=['Year','Team'],how='left')\n",
    "pty3 = pty3.merge(KBBP, left_on=['Year','PUTeam'],right_on=['Year','Team'],how='left')\n",
    "pty3n = pty3.select_dtypes(exclude=['object'])\n",
    "expl_R3 = pty3n.drop(['AFScore','AUScore', 'AFSeed', 'AUSeed','PFScore','PUScore','AWSeed','PWSeed','ESPN'],axis=1)\n",
    "respF_R3 = enet_F.predict(expl_R3)\n",
    "respU_R3 = enet_U.predict(expl_R3)\n",
    "for x in range(49,57):\n",
    "    pty.loc[x,'PFScore'] = np.around(respF_R1[x-49],3)\n",
    "    pty.loc[x,'PUScore'] = np.around(respU_R1[x-49],3)\n",
    "    pty.loc[x,'AWSeed'] = np.where(pty.loc[x,'AFScore']>=pty.loc[x,'AUScore'],pty.loc[x,'AFSeed'],pty.loc[x,'AUSeed'])\n",
    "    pty.loc[x,'AWTeam'] = np.where(pty.loc[x,'AFScore']>=pty.loc[x,'AUScore'],pty.loc[x,'AFTeam'],pty.loc[x,'AUTeam'])\n",
    "    pty.loc[x,'PWSeed'] = np.where(pty.loc[x,'PFScore']>=pty.loc[x,'PUScore'],pty.loc[x,'PFSeed'],pty.loc[x,'PUSeed'])\n",
    "    pty.loc[x,'PWTeam'] = np.where(pty.loc[x,'PFScore']>=pty.loc[x,'PUScore'],pty.loc[x,'PFTeam'],pty.loc[x,'PUTeam'])\n",
    "    pty.loc[x,'ESPN'] = np.where(pty.loc[x,'AWTeam']==pty.loc[x,'PWTeam'],40,0)   \n"
   ]
  },
  {
   "cell_type": "code",
   "execution_count": 197,
   "metadata": {},
   "outputs": [
    {
     "name": "stderr",
     "output_type": "stream",
     "text": [
      "C:\\Users\\harmk\\AppData\\Local\\Programs\\Python\\Python39\\lib\\site-packages\\pandas\\core\\indexing.py:1817: SettingWithCopyWarning: \n",
      "A value is trying to be set on a copy of a slice from a DataFrame.\n",
      "Try using .loc[row_indexer,col_indexer] = value instead\n",
      "\n",
      "See the caveats in the documentation: https://pandas.pydata.org/pandas-docs/stable/user_guide/indexing.html#returning-a-view-versus-a-copy\n",
      "  self._setitem_single_column(loc, value, pi)\n",
      "C:\\Users\\harmk\\AppData\\Local\\Programs\\Python\\Python39\\lib\\site-packages\\pandas\\core\\indexing.py:1817: SettingWithCopyWarning: \n",
      "A value is trying to be set on a copy of a slice from a DataFrame.\n",
      "Try using .loc[row_indexer,col_indexer] = value instead\n",
      "\n",
      "See the caveats in the documentation: https://pandas.pydata.org/pandas-docs/stable/user_guide/indexing.html#returning-a-view-versus-a-copy\n",
      "  self._setitem_single_column(loc, value, pi)\n"
     ]
    }
   ],
   "source": [
    "# Build Round 4\n",
    "# pull the predicted winners from round 3 \n",
    "for x in range(1,5):\n",
    "    pty.loc[x+56,'PFSeed']=min((pty.loc[2*x+47,'PWSeed']),(pty.loc[2*x+48,'PWSeed']))\n",
    "    pty.loc[x+56,'PUSeed']=max((pty.loc[2*x+47,'PWSeed']),(pty.loc[2*x+48,'PWSeed']))\n",
    "    pty.loc[x+56,'PFTeam']=str(np.where((pty.loc[2*x+47,'PWSeed'])<(pty.loc[2*x+48,'PWSeed']),pty.loc[2*x+47,'PWTeam'],pty.loc[2*x+48,'PWTeam']))\n",
    "    pty.loc[x+56,'PUTeam']=str(np.where((pty.loc[2*x+47,'PWSeed'])>(pty.loc[2*x+48,'PWSeed']),pty.loc[2*x+47,'PWTeam'],pty.loc[2*x+48,'PWTeam']))  \n",
    "# Now Mimic Round 3\n",
    "pty4 = pty[pty['Round']==4]\n",
    "pty4 = pty4.merge(KBBP, left_on=['Year','PFTeam'],right_on=['Year','Team'],how='left')\n",
    "pty4 = pty4.merge(KBBP, left_on=['Year','PUTeam'],right_on=['Year','Team'],how='left')\n",
    "pty4n = pty4.select_dtypes(exclude=['object'])\n",
    "expl_R4 = pty4n.drop(['AFScore','AUScore', 'AFSeed', 'AUSeed','PFScore','PUScore','AWSeed','PWSeed','ESPN'],axis=1)\n",
    "respF_R4 = enet_F.predict(expl_R4)\n",
    "respU_R4 = enet_U.predict(expl_R4)\n",
    "for x in range(57,61):\n",
    "    pty.loc[x,'PFScore'] = np.around(respF_R1[x-57],3)\n",
    "    pty.loc[x,'PUScore'] = np.around(respU_R1[x-57],3)\n",
    "    pty.loc[x,'AWSeed'] = np.where(pty.loc[x,'AFScore']>=pty.loc[x,'AUScore'],pty.loc[x,'AFSeed'],pty.loc[x,'AUSeed'])\n",
    "    pty.loc[x,'AWTeam'] = np.where(pty.loc[x,'AFScore']>=pty.loc[x,'AUScore'],pty.loc[x,'AFTeam'],pty.loc[x,'AUTeam'])\n",
    "    pty.loc[x,'PWSeed'] = np.where(pty.loc[x,'PFScore']>=pty.loc[x,'PUScore'],pty.loc[x,'PFSeed'],pty.loc[x,'PUSeed'])\n",
    "    pty.loc[x,'PWTeam'] = np.where(pty.loc[x,'PFScore']>=pty.loc[x,'PUScore'],pty.loc[x,'PFTeam'],pty.loc[x,'PUTeam'])\n",
    "    pty.loc[x,'ESPN'] = np.where(pty.loc[x,'AWTeam']==pty.loc[x,'PWTeam'],80,0)   "
   ]
  },
  {
   "cell_type": "code",
   "execution_count": 198,
   "metadata": {},
   "outputs": [
    {
     "name": "stderr",
     "output_type": "stream",
     "text": [
      "C:\\Users\\harmk\\AppData\\Local\\Programs\\Python\\Python39\\lib\\site-packages\\pandas\\core\\indexing.py:1817: SettingWithCopyWarning: \n",
      "A value is trying to be set on a copy of a slice from a DataFrame.\n",
      "Try using .loc[row_indexer,col_indexer] = value instead\n",
      "\n",
      "See the caveats in the documentation: https://pandas.pydata.org/pandas-docs/stable/user_guide/indexing.html#returning-a-view-versus-a-copy\n",
      "  self._setitem_single_column(loc, value, pi)\n",
      "C:\\Users\\harmk\\AppData\\Local\\Programs\\Python\\Python39\\lib\\site-packages\\pandas\\core\\indexing.py:1817: SettingWithCopyWarning: \n",
      "A value is trying to be set on a copy of a slice from a DataFrame.\n",
      "Try using .loc[row_indexer,col_indexer] = value instead\n",
      "\n",
      "See the caveats in the documentation: https://pandas.pydata.org/pandas-docs/stable/user_guide/indexing.html#returning-a-view-versus-a-copy\n",
      "  self._setitem_single_column(loc, value, pi)\n"
     ]
    }
   ],
   "source": [
    "# Build Round 5\n",
    "# pull the predicted winners from round 4 \n",
    "for x in range(1,3):\n",
    "    pty.loc[x+60,'PFSeed']=min((pty.loc[2*x+55,'PWSeed']),(pty.loc[2*x+56,'PWSeed']))\n",
    "    pty.loc[x+60,'PUSeed']=max((pty.loc[2*x+55,'PWSeed']),(pty.loc[2*x+56,'PWSeed']))\n",
    "    pty.loc[x+60,'PFTeam']=str(np.where((pty.loc[2*x+55,'PWSeed'])<(pty.loc[2*x+56,'PWSeed']),pty.loc[2*x+55,'PWTeam'],pty.loc[2*x+56,'PWTeam']))\n",
    "    pty.loc[x+60,'PUTeam']=str(np.where((pty.loc[2*x+55,'PWSeed'])>(pty.loc[2*x+56,'PWSeed']),pty.loc[2*x+55,'PWTeam'],pty.loc[2*x+56,'PWTeam']))  \n",
    "# Now Mimic Round 4\n",
    "pty5 = pty[pty['Round']==5]\n",
    "pty5 = pty5.merge(KBBP, left_on=['Year','PFTeam'],right_on=['Year','Team'],how='left')\n",
    "pty5 = pty5.merge(KBBP, left_on=['Year','PUTeam'],right_on=['Year','Team'],how='left')\n",
    "pty5n = pty5.select_dtypes(exclude=['object'])\n",
    "expl_R5 = pty5n.drop(['AFScore','AUScore', 'AFSeed', 'AUSeed','PFScore','PUScore','AWSeed','PWSeed','ESPN'],axis=1)\n",
    "respF_R5 = enet_F.predict(expl_R5)\n",
    "respU_R5 = enet_U.predict(expl_R5)\n",
    "for x in range(61,63):\n",
    "    pty.loc[x,'PFScore'] = np.around(respF_R1[x-61],3)\n",
    "    pty.loc[x,'PUScore'] = np.around(respU_R1[x-61],3)\n",
    "    pty.loc[x,'AWSeed'] = np.where(pty.loc[x,'AFScore']>=pty.loc[x,'AUScore'],pty.loc[x,'AFSeed'],pty.loc[x,'AUSeed'])\n",
    "    pty.loc[x,'AWTeam'] = np.where(pty.loc[x,'AFScore']>=pty.loc[x,'AUScore'],pty.loc[x,'AFTeam'],pty.loc[x,'AUTeam'])\n",
    "    pty.loc[x,'PWSeed'] = np.where(pty.loc[x,'PFScore']>=pty.loc[x,'PUScore'],pty.loc[x,'PFSeed'],pty.loc[x,'PUSeed'])\n",
    "    pty.loc[x,'PWTeam'] = np.where(pty.loc[x,'PFScore']>=pty.loc[x,'PUScore'],pty.loc[x,'PFTeam'],pty.loc[x,'PUTeam'])\n",
    "    pty.loc[x,'ESPN'] = np.where(pty.loc[x,'AWTeam']==pty.loc[x,'PWTeam'],160,0)   "
   ]
  },
  {
   "cell_type": "code",
   "execution_count": 199,
   "metadata": {},
   "outputs": [
    {
     "name": "stderr",
     "output_type": "stream",
     "text": [
      "C:\\Users\\harmk\\AppData\\Local\\Programs\\Python\\Python39\\lib\\site-packages\\pandas\\core\\indexing.py:1817: SettingWithCopyWarning: \n",
      "A value is trying to be set on a copy of a slice from a DataFrame.\n",
      "Try using .loc[row_indexer,col_indexer] = value instead\n",
      "\n",
      "See the caveats in the documentation: https://pandas.pydata.org/pandas-docs/stable/user_guide/indexing.html#returning-a-view-versus-a-copy\n",
      "  self._setitem_single_column(loc, value, pi)\n",
      "C:\\Users\\harmk\\AppData\\Local\\Programs\\Python\\Python39\\lib\\site-packages\\pandas\\core\\indexing.py:1817: SettingWithCopyWarning: \n",
      "A value is trying to be set on a copy of a slice from a DataFrame.\n",
      "Try using .loc[row_indexer,col_indexer] = value instead\n",
      "\n",
      "See the caveats in the documentation: https://pandas.pydata.org/pandas-docs/stable/user_guide/indexing.html#returning-a-view-versus-a-copy\n",
      "  self._setitem_single_column(loc, value, pi)\n"
     ]
    }
   ],
   "source": [
    "# Build Round 6\n",
    "# pull the predicted winners from round 5\n",
    "for x in range(1,2):\n",
    "    pty.loc[x+62,'PFSeed']=min((pty.loc[2*x+59,'PWSeed']),(pty.loc[2*x+60,'PWSeed']))\n",
    "    pty.loc[x+62,'PUSeed']=max((pty.loc[2*x+59,'PWSeed']),(pty.loc[2*x+60,'PWSeed']))\n",
    "    pty.loc[x+62,'PFTeam']=str(np.where((pty.loc[2*x+59,'PWSeed'])<(pty.loc[2*x+60,'PWSeed']),pty.loc[2*x+59,'PWTeam'],pty.loc[2*x+60,'PWTeam']))\n",
    "    pty.loc[x+62,'PUTeam']=str(np.where((pty.loc[2*x+59,'PWSeed'])>(pty.loc[2*x+60,'PWSeed']),pty.loc[2*x+59,'PWTeam'],pty.loc[2*x+60,'PWTeam'])) \n",
    "# Now Mimic Round 5\n",
    "pty6 = pty[pty['Round']==6]\n",
    "pty6 = pty6.merge(KBBP, left_on=['Year','PFTeam'],right_on=['Year','Team'],how='left')\n",
    "pty6 = pty6.merge(KBBP, left_on=['Year','PUTeam'],right_on=['Year','Team'],how='left')\n",
    "pty6n = pty6.select_dtypes(exclude=['object'])\n",
    "expl_R6 = pty6n.drop(['AFScore','AUScore', 'AFSeed', 'AUSeed','PFScore','PUScore','AWSeed','PWSeed','ESPN'],axis=1)\n",
    "respF_R6 = enet_F.predict(expl_R6)\n",
    "respU_R6 = enet_U.predict(expl_R6)\n",
    "for x in range(63,64):\n",
    "    pty.loc[x,'PFScore'] = np.around(respF_R1[x-63],3)\n",
    "    pty.loc[x,'PUScore'] = np.around(respU_R1[x-63],3)\n",
    "    pty.loc[x,'AWSeed'] = np.where(pty.loc[x,'AFScore']>=pty.loc[x,'AUScore'],pty.loc[x,'AFSeed'],pty.loc[x,'AUSeed'])\n",
    "    pty.loc[x,'AWTeam'] = np.where(pty.loc[x,'AFScore']>=pty.loc[x,'AUScore'],pty.loc[x,'AFTeam'],pty.loc[x,'AUTeam'])\n",
    "    pty.loc[x,'PWSeed'] = np.where(pty.loc[x,'PFScore']>=pty.loc[x,'PUScore'],pty.loc[x,'PFSeed'],pty.loc[x,'PUSeed'])\n",
    "    pty.loc[x,'PWTeam'] = np.where(pty.loc[x,'PFScore']>=pty.loc[x,'PUScore'],pty.loc[x,'PFTeam'],pty.loc[x,'PUTeam'])\n",
    "    pty.loc[x,'ESPN'] = np.where(pty.loc[x,'AWTeam']==pty.loc[x,'PWTeam'],320,0)  "
   ]
  },
  {
   "cell_type": "code",
   "execution_count": 200,
   "metadata": {},
   "outputs": [
    {
     "name": "stdout",
     "output_type": "stream",
     "text": [
      "2009\n",
      "620.0\n"
     ]
    }
   ],
   "source": [
    "print(p_year)\n",
    "print(pty.ESPN.sum())\n",
    "pty.to_csv('../data/tal.csv')"
   ]
  }
 ],
 "metadata": {
  "interpreter": {
   "hash": "c168bd907d9edf6e891a59be7f4ab8312caabe41970dca16a2465f9e936d4872"
  },
  "kernelspec": {
   "display_name": "Python 3.9.7 64-bit",
   "language": "python",
   "name": "python3"
  },
  "language_info": {
   "codemirror_mode": {
    "name": "ipython",
    "version": 3
   },
   "file_extension": ".py",
   "mimetype": "text/x-python",
   "name": "python",
   "nbconvert_exporter": "python",
   "pygments_lexer": "ipython3",
   "version": "3.9.7"
  },
  "orig_nbformat": 4
 },
 "nbformat": 4,
 "nbformat_minor": 2
}
