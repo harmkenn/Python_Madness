{
 "cells": [
  {
   "cell_type": "code",
   "execution_count": 1,
   "metadata": {},
   "outputs": [
    {
     "data": {
      "text/plain": [
       "Index(['Year', 'Round', 'Region', 'Game', 'AFSeed', 'AFTeam', 'AFScore',\n",
       "       'AUSeed', 'AUTeam', 'AUScore', 'PFSeed', 'PFTeam', 'PFScore', 'PUSeed',\n",
       "       'PUTeam', 'PUScore', 'Team_x', 'Conf_x', 'AdjEM_x', 'AdjO_x', 'AdjD_x',\n",
       "       'AdjT_x', 'SOSEM_x', 'SOSO_x', 'SOSD_x', 'BPIO_x', 'BPID_x', 'W_x',\n",
       "       'L_x', 'Pts_x', 'Opp_x', 'MOV_x', 'SOS_x', 'OSRS_x', 'DSRS_x', 'SRS_x',\n",
       "       'PASE_x', 'Team_y', 'Conf_y', 'AdjEM_y', 'AdjO_y', 'AdjD_y', 'AdjT_y',\n",
       "       'SOSEM_y', 'SOSO_y', 'SOSD_y', 'BPIO_y', 'BPID_y', 'W_y', 'L_y',\n",
       "       'Pts_y', 'Opp_y', 'MOV_y', 'SOS_y', 'OSRS_y', 'DSRS_y', 'SRS_y',\n",
       "       'PASE_y'],\n",
       "      dtype='object')"
      ]
     },
     "execution_count": 1,
     "metadata": {},
     "output_type": "execute_result"
    }
   ],
   "source": [
    "# https://www.pluralsight.com/guides/non-linear-regression-trees-scikit-learn\n",
    "import pandas as pd\n",
    "df = pd.read_csv('../data/g1_merged.csv')\n",
    "df = df.loc[:, ~df.columns.str.contains('^Unnamed')]\n",
    "df.columns"
   ]
  },
  {
   "cell_type": "code",
   "execution_count": 2,
   "metadata": {},
   "outputs": [],
   "source": [
    "# Pick a random Year\n",
    "from random import choice\n",
    "p_year = choice([i for i in range(2008,2021) if i not in [2020]])\n",
    "p_year = 2021"
   ]
  },
  {
   "cell_type": "code",
   "execution_count": 3,
   "metadata": {},
   "outputs": [],
   "source": [
    "# Targets and Predictors\n",
    "expl = df.select_dtypes(exclude=['object']).drop(['AFSeed', 'AUSeed','AFScore','AUScore','PFScore','PUScore'],axis=1)\n",
    "respF = df['PFScore']\n",
    "respU = df['PUScore']"
   ]
  },
  {
   "cell_type": "code",
   "execution_count": 4,
   "metadata": {},
   "outputs": [
    {
     "data": {
      "text/plain": [
       "1582.3076923076924"
      ]
     },
     "execution_count": 4,
     "metadata": {},
     "output_type": "execute_result"
    }
   ],
   "source": [
    "# How well does Elastic Net do?\n",
    "from sklearn.linear_model import ElasticNet\n",
    "ENMF = ElasticNet(alpha=.284,l1_ratio=.5)\n",
    "ENMF.fit(expl,respF)\n",
    "ENMU = ElasticNet(alpha=.284,l1_ratio=.5)\n",
    "ENMU.fit(expl,respU)\n",
    "PF = ENMF.predict(expl)\n",
    "PU = ENMU.predict(expl)\n",
    "\n",
    "df['PFScore'] = PF\n",
    "df['PUScore'] = PU\n",
    "import numpy as np\n",
    "for x in df.index: \n",
    "    df.loc[x,'AWSeed'] = np.where(df.loc[x,'AFScore']>=df.loc[x,'AUScore'],df.loc[x,'AFSeed'],df.loc[x,'AUSeed'])\n",
    "    df.loc[x,'AWTeam'] = np.where(df.loc[x,'AFScore']>=df.loc[x,'AUScore'],df.loc[x,'AFTeam'],df.loc[x,'AUTeam'])\n",
    "    df.loc[x,'PWSeed'] = np.where(df.loc[x,'PFScore']>=df.loc[x,'PUScore'],df.loc[x,'PFSeed'],df.loc[x,'PUSeed'])\n",
    "    df.loc[x,'PWTeam'] = np.where(df.loc[x,'PFScore']>=df.loc[x,'PUScore'],df.loc[x,'PFTeam'],df.loc[x,'PUTeam'])\n",
    "    df.loc[x,'ESPN'] = np.where(df.loc[x,'AWTeam']==df.loc[x,'PWTeam'],10*2**(df.loc[x,'Round']-1),0)\n",
    "df['ESPN'].sum()/13\n"
   ]
  },
  {
   "cell_type": "code",
   "execution_count": 5,
   "metadata": {},
   "outputs": [
    {
     "name": "stderr",
     "output_type": "stream",
     "text": [
      "C:\\Users\\harmk\\AppData\\Local\\Programs\\Python\\Python39\\lib\\site-packages\\sklearn\\base.py:441: UserWarning: X does not have valid feature names, but RandomForestRegressor was fitted with feature names\n",
      "  warnings.warn(\n",
      "C:\\Users\\harmk\\AppData\\Local\\Programs\\Python\\Python39\\lib\\site-packages\\sklearn\\base.py:441: UserWarning: X does not have valid feature names, but RandomForestRegressor was fitted with feature names\n",
      "  warnings.warn(\n"
     ]
    },
    {
     "data": {
      "text/plain": [
       "1820.0"
      ]
     },
     "execution_count": 5,
     "metadata": {},
     "output_type": "execute_result"
    }
   ],
   "source": [
    "# How well does Random Forest do?\n",
    "from sklearn.ensemble import RandomForestRegressor\n",
    "RFF = RandomForestRegressor(n_estimators=100, oob_score=True, random_state=50)\n",
    "RFF.fit(expl,respF)\n",
    "RFU = RandomForestRegressor(n_estimators=100, oob_score=True, random_state=50)\n",
    "RFU.fit(expl,respU)\n",
    "PF = RFF.predict(expl)\n",
    "PU = RFU.predict(expl)\n",
    "\n",
    "df['PFScore'] = PF\n",
    "df['PUScore'] = PU\n",
    "import numpy as np\n",
    "for x in df.index: \n",
    "    df.loc[x,'AWSeed'] = np.where(df.loc[x,'AFScore']>=df.loc[x,'AUScore'],df.loc[x,'AFSeed'],df.loc[x,'AUSeed'])\n",
    "    df.loc[x,'AWTeam'] = np.where(df.loc[x,'AFScore']>=df.loc[x,'AUScore'],df.loc[x,'AFTeam'],df.loc[x,'AUTeam'])\n",
    "    df.loc[x,'PWSeed'] = np.where(df.loc[x,'PFScore']>=df.loc[x,'PUScore'],df.loc[x,'PFSeed'],df.loc[x,'PUSeed'])\n",
    "    df.loc[x,'PWTeam'] = np.where(df.loc[x,'PFScore']>=df.loc[x,'PUScore'],df.loc[x,'PFTeam'],df.loc[x,'PUTeam'])\n",
    "    df.loc[x,'ESPN'] = np.where(df.loc[x,'AWTeam']==df.loc[x,'PWTeam'],10*2**(df.loc[x,'Round']-1),0)\n",
    "df['ESPN'].sum()/13"
   ]
  },
  {
   "cell_type": "code",
   "execution_count": 6,
   "metadata": {},
   "outputs": [
    {
     "data": {
      "text/plain": [
       "1634.6153846153845"
      ]
     },
     "execution_count": 6,
     "metadata": {},
     "output_type": "execute_result"
    }
   ],
   "source": [
    "# How well does Linear Regression do?\n",
    "from sklearn.linear_model import LinearRegression\n",
    "LRF = LinearRegression()\n",
    "LRF.fit(expl,respF)\n",
    "RFU = LinearRegression()\n",
    "RFU.fit(expl,respU)\n",
    "PF = RFF.predict(expl)\n",
    "PU = RFU.predict(expl)\n",
    "\n",
    "df['PFScore'] = PF\n",
    "df['PUScore'] = PU\n",
    "import numpy as np\n",
    "for x in df.index: \n",
    "    df.loc[x,'AWSeed'] = np.where(df.loc[x,'AFScore']>=df.loc[x,'AUScore'],df.loc[x,'AFSeed'],df.loc[x,'AUSeed'])\n",
    "    df.loc[x,'AWTeam'] = np.where(df.loc[x,'AFScore']>=df.loc[x,'AUScore'],df.loc[x,'AFTeam'],df.loc[x,'AUTeam'])\n",
    "    df.loc[x,'PWSeed'] = np.where(df.loc[x,'PFScore']>=df.loc[x,'PUScore'],df.loc[x,'PFSeed'],df.loc[x,'PUSeed'])\n",
    "    df.loc[x,'PWTeam'] = np.where(df.loc[x,'PFScore']>=df.loc[x,'PUScore'],df.loc[x,'PFTeam'],df.loc[x,'PUTeam'])\n",
    "    df.loc[x,'ESPN'] = np.where(df.loc[x,'AWTeam']==df.loc[x,'PWTeam'],10*2**(df.loc[x,'Round']-1),0)\n",
    "df['ESPN'].sum()/13"
   ]
  }
 ],
 "metadata": {
  "interpreter": {
   "hash": "c168bd907d9edf6e891a59be7f4ab8312caabe41970dca16a2465f9e936d4872"
  },
  "kernelspec": {
   "display_name": "Python 3.9.7 64-bit",
   "language": "python",
   "name": "python3"
  },
  "language_info": {
   "codemirror_mode": {
    "name": "ipython",
    "version": 3
   },
   "file_extension": ".py",
   "mimetype": "text/x-python",
   "name": "python",
   "nbconvert_exporter": "python",
   "pygments_lexer": "ipython3",
   "version": "3.9.7"
  },
  "orig_nbformat": 4
 },
 "nbformat": 4,
 "nbformat_minor": 2
}
