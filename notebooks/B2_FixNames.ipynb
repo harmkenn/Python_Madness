{
 "cells": [
  {
   "cell_type": "code",
   "execution_count": null,
   "metadata": {},
   "outputs": [],
   "source": [
    "# Make everyon match KenPom\n",
    "\n",
    "import pandas as pd\n",
    "import numpy as np\n",
    "\n",
    "\n",
    "BPI = pd.read_csv(\"A3_BPI.csv\")\n",
    "BR = pd.read_csv('A3_BR.csv')\n",
    "KP = pd.read_csv('A3_kenpom.csv')\n",
    "FG = pd.read_csv('B1_FavGames.csv')\n",
    "\n",
    "BPI['Team'] = BPI['Team'].replace({'State':'St.'}, regex=True)\n",
    "BR['Team'] = BR['Team'].replace({'State':'St.'}, regex=True)\n",
    "KP['Team'] = KP['Team'].replace({'N.C. State':'North Carolina St.','LIU Brooklyn':'LIU','Arkansas Little Rock':'Little Rock','College of Charleston':'Charleston'})\n",
    " \n",
    "KPN = np.sort(KP['Team'].unique())\n",
    "BPIN = np.sort(BPI['Team'].unique())\n",
    "BRN = np.sort(BR['Team'].unique())\n",
    "FGN = np.sort(FG['AFTeam'].unique())\n"
   ]
  },
  {
   "cell_type": "code",
   "execution_count": null,
   "metadata": {},
   "outputs": [],
   "source": [
    "BPI2fix = list(set(BPIN) - set(KPN))\n",
    "BR2fix = list(set(BRN) - set(KPN))\n",
    "BPI2KP = list(set(KPN) - set(BPIN))\n",
    "BR2KP = list(set(KPN) - set(BRN))\n",
    "\n",
    "dict = {'BPI2fix':BPI2fix}\n",
    "out = pd.DataFrame(dict)\n",
    "out.to_csv('B1_BPI2fix.csv',index=False)\n",
    "dict = {'BR2fix':BR2fix}\n",
    "out = pd.DataFrame(dict)\n",
    "out.to_csv('B1_BR2fix.csv',index=False)\n",
    "dict = {'BPI2KP':BPI2KP}\n",
    "out = pd.DataFrame(dict)\n",
    "out.to_csv('B1_BPI2KP.csv',index=False)\n",
    "dict = {'BR2KP':BR2KP}\n",
    "out = pd.DataFrame(dict)\n",
    "out.to_csv('B1_BR2KP.csv',index=False)"
   ]
  },
  {
   "cell_type": "code",
   "execution_count": null,
   "metadata": {},
   "outputs": [],
   "source": [
    "import pandas as pd\n",
    "\n",
    "BPI2Replace = pd.read_csv(\"B1_BPI2replace.csv\")\n",
    "LB = list(BPI2Replace['BPI2fix'])\n",
    "LA = list(BPI2Replace['BPI2KP'])\n",
    "BPI['Team'] = BPI['Team'].replace(LB,LA)\n",
    "\n"
   ]
  },
  {
   "cell_type": "code",
   "execution_count": null,
   "metadata": {},
   "outputs": [],
   "source": [
    "BPIN = np.sort(BPI['Team'].unique())\n",
    "BPI2fix = list(set(BPIN) - set(KPN))\n",
    "BPI2fix"
   ]
  },
  {
   "cell_type": "code",
   "execution_count": null,
   "metadata": {},
   "outputs": [],
   "source": [
    "import pandas as pd\n",
    "\n",
    "BR2Replace = pd.read_csv(\"B1_BR2replace.csv\")\n",
    "LB = list(BR2Replace['BR2fix'])\n",
    "LA = list(BR2Replace['BR2KP'])\n",
    "BR['Team'] = BR['Team'].replace(LB,LA)"
   ]
  },
  {
   "cell_type": "code",
   "execution_count": null,
   "metadata": {},
   "outputs": [],
   "source": [
    "BRN = np.sort(BR['Team'].unique())\n",
    "BR2fix = list(set(BRN) - set(KPN))\n",
    "BR2fix"
   ]
  },
  {
   "cell_type": "code",
   "execution_count": null,
   "metadata": {},
   "outputs": [],
   "source": [
    "#Merge KP BPI BR\n",
    "\n",
    "KPBPI = KP.merge(BPI,how='left', on=['Year','Team'])\n",
    "KPBPIBR = KPBPI.merge(BR, how = 'left', on=['Year','Team'])\n",
    "\n",
    "KPBPIBR.to_csv('B3_KPBPIBR.csv',index=False)"
   ]
  },
  {
   "cell_type": "code",
   "execution_count": null,
   "metadata": {},
   "outputs": [],
   "source": [
    "FG0821 = FG[FG['Year']>2007]\n",
    "FG0821B = FG0821[FG0821['Game']>0]\n",
    "FG0821B"
   ]
  },
  {
   "cell_type": "code",
   "execution_count": null,
   "metadata": {},
   "outputs": [],
   "source": [
    "#https://stackoverflow.com/questions/53645882/pandas-merging-101\n",
    "\n",
    "#left.merge(right, left_on=['lkey1', 'lkey2'], right_on=['rkey1', 'rkey2'])\n",
    "#left2.merge(right2, left_on='keyLeft', right_on='keyRight', how='inner')\n",
    "\n",
    "AllF = FG0821B.merge(KPBPIBR, left_on = ['Year','AFTeam'], right_on = ['Year','Team'], how = 'left')\n",
    "AllFandU = AllF.merge(KPBPIBR, left_on = ['Year','AUTeam'], right_on = ['Year','Team'], how = 'left')\n",
    "AllFandU.to_csv('B3_AllFandU.csv',index=False)\n"
   ]
  }
 ],
 "metadata": {
  "interpreter": {
   "hash": "c168bd907d9edf6e891a59be7f4ab8312caabe41970dca16a2465f9e936d4872"
  },
  "kernelspec": {
   "display_name": "Python 3.9.7 64-bit",
   "language": "python",
   "name": "python3"
  },
  "language_info": {
   "codemirror_mode": {
    "name": "ipython",
    "version": 3
   },
   "file_extension": ".py",
   "mimetype": "text/x-python",
   "name": "python",
   "nbconvert_exporter": "python",
   "pygments_lexer": "ipython3",
   "version": "3.9.7"
  },
  "orig_nbformat": 4
 },
 "nbformat": 4,
 "nbformat_minor": 2
}
