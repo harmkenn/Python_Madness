{
 "cells": [
  {
   "cell_type": "code",
   "execution_count": null,
   "metadata": {},
   "outputs": [],
   "source": [
    "import pandas as pd\n",
    "import numpy as np\n",
    "\n",
    "AG = pd.read_csv('../data/B1_FavGames.csv')\n",
    "AGP = AG[AG['Year']==2008][AG['Game']>=1]\n",
    "AGPF = AGP.drop(['AUSeed','AUTeam','AUScore','Uti'],axis=1)\n",
    "AGPU = AGP.drop(['AFSeed','AFTeam','AFScore','Fti'],axis=1)\n",
    "AGPF['STS'] = AGPF['AFSeed'].astype(str)+' '+AGPF['AFTeam']+' '+AGPF['AFScore'].astype(str)\n",
    "AGPF = AGPF.drop(['AFSeed','AFTeam','AFScore'],axis=1).rename(columns={\"Fti\": \"ti\"})\n",
    "AGPU['STS'] = AGPU['AUSeed'].astype(str)+' '+AGPU['AUTeam']+' '+AGPU['AUScore'].astype(str)\n",
    "AGPU = AGPU.drop(['AUSeed','AUTeam','AUScore'],axis=1).rename(columns={\"Uti\": \"ti\"})\n",
    "AGC = pd.concat([AGPF,AGPU]).sort_values(by=['Game','ti'])\n",
    "AGC.reset_index(inplace=True)\n",
    "R1W = np.array(AGC[AGC['Game']<=16]['STS'])\n",
    "R1E = np.array(AGC[(AGC['Game']>=17) & (AGC['Game']<=32)]['STS'])\n",
    "R2W = np.array(AGC[(AGC['Game']>=33) & (AGC['Game']<=40)]['STS'])\n",
    "B16 = np.full((16),'',dtype=object)\n",
    "R2W = np.insert(B16, np.arange(len(R2W)),R2W)\n",
    "df = pd.DataFrame({'R1W':R1W,'R2W':R2W,'R1E':R1E})"
   ]
  },
  {
   "cell_type": "code",
   "execution_count": null,
   "metadata": {},
   "outputs": [],
   "source": [
    "Champ = AGP.iloc[-1,]\n",
    "if Champ['AFScore']>Champ['AUScore']:\n",
    "    winner = Champ['AFTeam']\n",
    "else:\n",
    "    winner = Champ['AUTeam']\n",
    "winner"
   ]
  },
  {
   "cell_type": "code",
   "execution_count": null,
   "metadata": {},
   "outputs": [],
   "source": [
    "br_headers = ['Round 1 W','Round 2 W','Round 3 W','Round 4 W','Final Four W','Championship',\n",
    "              'Final Four E','Round 4 E','Round 3 E','Round 2 E','Round 1 E']\n",
    "df = pd.DataFrame(columns = br_headers)\n",
    "for x in br_headers:\n",
    "    for y in range(64):\n",
    "        df.loc[y,x]=''\n",
    "for y in range(64):\n",
    "    df.loc[y,'Round 1 W']= AGC.loc[y,'STS']\n",
    "for y in range(0,63,2):\n",
    "    df.loc[y,'Round 2 W']= AGC.loc[y/2+64,'STS']\n",
    "df"
   ]
  },
  {
   "cell_type": "code",
   "execution_count": null,
   "metadata": {},
   "outputs": [],
   "source": [
    "import pandas as pd\n",
    "\n",
    "AG = pd.read_csv('../data/B1_FavGames.csv')\n",
    "\n",
    "\n",
    "LG = AG[AG['Round']=='6']\n",
    "CS = pd.DataFrame({'Round','Seed'})\n",
    "for x in range(0,36):\n",
    "    if LG.iloc[x][\"AFScore\"]>LG.iloc[x][\"AUScore\"]:\n",
    "        ws = LG.iloc[x][\"AFSeed\"]\n",
    "    else:\n",
    "        ws = LG.iloc[x][\"AUSeed\"]\n",
    "    CS.loc[x,'Round'] = 'W'\n",
    "    CS.loc[x,'Seed'] = ws\n",
    "cs = pd.crosstab(index=CS['Seed'],columns=CS['Round'])\n",
    "fs = pd.crosstab(index=AG['AFSeed'],columns=AG['Round'])\n",
    "us = pd.crosstab(index=AG['AUSeed'],columns=AG['Round'])\n",
    "ufs = fs.add(us, fill_value=0).astype(int).drop(['PI'],axis=1)\n",
    "sh = ufs.add(cs, fill_value=0).fillna(0).astype(int)\n",
    "\n",
    "sh\n",
    "\n"
   ]
  },
  {
   "cell_type": "code",
   "execution_count": null,
   "metadata": {},
   "outputs": [],
   "source": [
    "import pandas as pd\n",
    "import numpy as np\n",
    "AG = pd.read_csv('../data/B1_FavGames.csv')\n",
    "\n",
    "# table of wins\n",
    "fw = pd.crosstab(index=AG['AFTeam'],columns=AG['Year'])\n",
    "uw = pd.crosstab(index=AG['AUTeam'],columns=AG['Year'])\n",
    "cw = fw.add(uw, fill_value=0).fillna(0).astype(int) - 1\n",
    "cw = cw.replace(-1, '')\n",
    "\n",
    "\n",
    "# table of seeds\n",
    "AG1 = AG[AG['Round']=='1']\n",
    "fs = AG1.pivot(index='AFTeam', columns='Year', values = 'AFSeed').fillna(0).astype(int)\n",
    "us = AG1.pivot(index='AUTeam', columns='Year', values = 'AUSeed').fillna(0).astype(int)\n",
    "cs = fs.add(us, fill_value=0).fillna(0).astype(int)\n",
    "cs = cs.replace(0, '')\n",
    "\n",
    "# table of expected wins\n",
    "sh = pd.read_csv('../data/c3_SeedHistory.csv')\n",
    "ew = pd.DataFrame({'Seed':np.arange(1,17),'Exp Wins':sh['Exp Wins']})\n",
    "\n",
    "ewty = cs.replace(list(ew['Seed']),list(ew['Exp Wins']))\n",
    "\n",
    "ewz = (ewty * -1).replace(r'^\\s*$', np.nan, regex=True).fillna(0)\n",
    "cwz = cw.replace(r'^\\s*$', np.nan, regex=True).fillna(0)\n",
    "pase = cwz.add(ewz).replace(0, np.nan)\n",
    "pase['PASE']=pase.mean(axis=1)\n",
    "\n",
    "\n",
    "\n",
    "\n",
    "\n"
   ]
  },
  {
   "cell_type": "code",
   "execution_count": null,
   "metadata": {},
   "outputs": [],
   "source": [
    "cw.astype(str)"
   ]
  },
  {
   "cell_type": "code",
   "execution_count": null,
   "metadata": {},
   "outputs": [],
   "source": [
    "# practice for e_teamrank.py\n",
    "\n",
    "import pandas as pd\n",
    "\n",
    "pd.set_option('display.precision',3)\n",
    "pd.options.display.float_format = '{:,.2f}'.format\n",
    "\n",
    "TR = pd.read_csv('../data/B3_KPBPIBR.csv')\n",
    "pase = pd.read_csv('../data/d3_PASE.csv')\n",
    "pase.columns =['Team', 'PASE']\n",
    "TRP = TR.merge(pase, on='Team', how = 'left')\n"
   ]
  },
  {
   "cell_type": "code",
   "execution_count": null,
   "metadata": {},
   "outputs": [],
   "source": [
    "TRP"
   ]
  },
  {
   "cell_type": "code",
   "execution_count": 143,
   "metadata": {},
   "outputs": [],
   "source": [
    "import pandas as pd\n",
    "FUP = pd.read_csv(\"../data/f1_FUP.csv\").fillna(0)\n",
    "#FUP.info()\n",
    "#FUP.isnull().sum().sum()\n",
    "FUPN = FUP.select_dtypes(exclude=['object'])\n",
    "\n",
    "# Split the dataframe into x and y\n",
    "expl = FUPN.drop(['AFScore', 'AUScore'], axis=1)\n",
    "respF = FUPN[['Year','AFScore']]\n",
    "respU = FUPN[['Year','AUScore']]"
   ]
  },
  {
   "cell_type": "code",
   "execution_count": 181,
   "metadata": {},
   "outputs": [
    {
     "name": "stdout",
     "output_type": "stream",
     "text": [
      "2012\n"
     ]
    }
   ],
   "source": [
    "from random import choice\n",
    "#p_year = choice([i for i in range(2008,2021) if i not in [2020]])\n",
    "p_year = 2012\n",
    "print(p_year)\n",
    "\n",
    "X_train = expl[expl['Year'] != p_year]\n",
    "y_train_F = respF[respF['Year'] != p_year]['AFScore'].to_numpy() \n",
    "y_train_U = respU[respU['Year'] != p_year]['AUScore'].to_numpy() \n",
    "X_test = expl[expl['Year'] == p_year]\n",
    "y_test_F = respF[respF['Year'] == p_year]['AFScore'].to_numpy()\n",
    "y_test_U = respU[respU['Year'] == p_year]['AUScore'].to_numpy()"
   ]
  },
  {
   "cell_type": "code",
   "execution_count": 182,
   "metadata": {},
   "outputs": [],
   "source": [
    "from sklearn.linear_model import ElasticNet\n",
    "\n",
    "#scaler = StandardScaler()\n",
    "#scaler.fit(X_train)\n",
    "#X_train_s = scaler.transform(X_train)\n",
    "enet = ElasticNet(alpha=.2,l1_ratio=.5)\n",
    "enet.fit(X_train,y_train_F)\n",
    "#scaler.fit(X_test)\n",
    "#X_test_s = scaler.transform(X_test)\n",
    "y_pred_F = enet.predict(X_test)\n",
    "enet.fit(X_train,y_train_U)\n",
    "y_pred_U = enet.predict(X_test)\n"
   ]
  },
  {
   "cell_type": "code",
   "execution_count": 183,
   "metadata": {},
   "outputs": [],
   "source": [
    "actual=(y_test_F - y_test_U >0)"
   ]
  },
  {
   "cell_type": "code",
   "execution_count": 184,
   "metadata": {},
   "outputs": [],
   "source": [
    "Pred=(y_pred_F - y_pred_U >0)"
   ]
  },
  {
   "cell_type": "code",
   "execution_count": 185,
   "metadata": {},
   "outputs": [
    {
     "name": "stdout",
     "output_type": "stream",
     "text": [
      "2012\n"
     ]
    },
    {
     "data": {
      "text/plain": [
       "57"
      ]
     },
     "execution_count": 185,
     "metadata": {},
     "output_type": "execute_result"
    }
   ],
   "source": [
    "import numpy as np\n",
    "print(p_year)\n",
    "np.sum(actual == Pred)"
   ]
  },
  {
   "cell_type": "code",
   "execution_count": 186,
   "metadata": {},
   "outputs": [
    {
     "data": {
      "text/plain": [
       "1850"
      ]
     },
     "execution_count": 186,
     "metadata": {},
     "output_type": "execute_result"
    }
   ],
   "source": [
    "FUT = FUP[FUP['Year']==p_year]\n",
    "FUT = FUT.iloc[:,0:10]\n",
    "FUT['PFScore'] = y_pred_F\n",
    "FUT['PUScore'] = y_pred_U\n",
    "FUT['ESPN'] = (((FUT['AFScore'])>=(FUT['AUScore']))==((FUT['PFScore'])>=(FUT['PUScore']))).astype('uint8')*10*2**(FUT['Round']-1)\n",
    "FUT['ESPN'].sum()"
   ]
  }
 ],
 "metadata": {
  "interpreter": {
   "hash": "c168bd907d9edf6e891a59be7f4ab8312caabe41970dca16a2465f9e936d4872"
  },
  "kernelspec": {
   "display_name": "Python 3.9.7 64-bit",
   "language": "python",
   "name": "python3"
  },
  "language_info": {
   "codemirror_mode": {
    "name": "ipython",
    "version": 3
   },
   "file_extension": ".py",
   "mimetype": "text/x-python",
   "name": "python",
   "nbconvert_exporter": "python",
   "pygments_lexer": "ipython3",
   "version": "3.9.7"
  },
  "orig_nbformat": 4
 },
 "nbformat": 4,
 "nbformat_minor": 2
}
