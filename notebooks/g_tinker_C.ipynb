{
 "cells": [
  {
   "cell_type": "code",
   "execution_count": 1,
   "metadata": {},
   "outputs": [],
   "source": [
    "#Collect all the games with stats from 2008\n",
    "import pandas as pd\n",
    "import numpy as np\n",
    "pt = pd.read_csv(\"../data/B1_FavGames.csv\")\n",
    "KBBP = pd.read_csv(\"../data/B3_KPBPIBRP.csv\").fillna(0)\n",
    "pt = pt.loc[(pt['Year']>=2008) & (pt['Round'] !='PI')]\n",
    "pt['Round'] = pt['Round'].astype(int)\n",
    "pt = pt.iloc[:,0:10]\n",
    "pt['PFSeed'] = pt['AFSeed']\n",
    "pt['PFTeam'] = pt['AFTeam']\n",
    "pt['PFScore'] = pt['AFScore']\n",
    "pt['PUSeed'] = pt['AUSeed']\n",
    "pt['PUTeam'] = pt['AUTeam']\n",
    "pt['PUScore'] = pt['AUScore']\n",
    "pts = pt.merge(KBBP, left_on=['Year','PFTeam'],right_on=['Year','Team'],how='left')\n",
    "pts = pts.merge(KBBP, left_on=['Year','PUTeam'],right_on=['Year','Team'],how='left')\n",
    "\n",
    "pts.to_csv('../data/g1_merged.csv')\n",
    "\n"
   ]
  },
  {
   "cell_type": "code",
   "execution_count": 7,
   "metadata": {},
   "outputs": [
    {
     "data": {
      "text/plain": [
       "2008"
      ]
     },
     "execution_count": 7,
     "metadata": {},
     "output_type": "execute_result"
    }
   ],
   "source": [
    "# Pick a random Year\n",
    "from random import choice\n",
    "p_year = choice([i for i in range(2008,2021) if i not in [2020]])\n",
    "p_year"
   ]
  },
  {
   "cell_type": "code",
   "execution_count": 8,
   "metadata": {},
   "outputs": [
    {
     "data": {
      "text/plain": [
       "Index(['Year', 'Round', 'Game', 'PFSeed', 'PUSeed', 'AdjEM_x', 'AdjO_x',\n",
       "       'AdjD_x', 'AdjT_x', 'SOSEM_x', 'SOSO_x', 'SOSD_x', 'BPIO_x', 'BPID_x',\n",
       "       'W_x', 'L_x', 'Pts_x', 'Opp_x', 'MOV_x', 'SOS_x', 'OSRS_x', 'DSRS_x',\n",
       "       'SRS_x', 'PASE_x', 'AdjEM_y', 'AdjO_y', 'AdjD_y', 'AdjT_y', 'SOSEM_y',\n",
       "       'SOSO_y', 'SOSD_y', 'BPIO_y', 'BPID_y', 'W_y', 'L_y', 'Pts_y', 'Opp_y',\n",
       "       'MOV_y', 'SOS_y', 'OSRS_y', 'DSRS_y', 'SRS_y', 'PASE_y'],\n",
       "      dtype='object')"
      ]
     },
     "execution_count": 8,
     "metadata": {},
     "output_type": "execute_result"
    }
   ],
   "source": [
    "# Back Predict Round 1\n",
    "# The Model from all years\n",
    "expl = pts.select_dtypes(exclude=['object']).drop(['AFSeed', 'AUSeed','AFScore','AUScore','PFScore','PUScore'],axis=1)\n",
    "respF = pts['PFScore']\n",
    "respU = pts['PUScore']\n",
    "from sklearn.linear_model import ElasticNet\n",
    "ENMF = ElasticNet(alpha=.284,l1_ratio=.5)\n",
    "ENMF.fit(expl,respF)\n",
    "ENMU = ElasticNet(alpha=.284,l1_ratio=.5)\n",
    "ENMU.fit(expl,respU)\n",
    "\n",
    "# Predict p_year\n",
    "exply = expl[expl['Year']==p_year]\n",
    "PF = ENMF.predict(exply)\n",
    "PU = ENMU.predict(exply)\n",
    "\n",
    "expl.columns\n"
   ]
  },
  {
   "cell_type": "code",
   "execution_count": 23,
   "metadata": {},
   "outputs": [
    {
     "name": "stderr",
     "output_type": "stream",
     "text": [
      "C:\\Users\\harmk\\AppData\\Local\\Programs\\Python\\Python39\\lib\\site-packages\\pandas\\core\\indexing.py:1817: SettingWithCopyWarning: \n",
      "A value is trying to be set on a copy of a slice from a DataFrame.\n",
      "Try using .loc[row_indexer,col_indexer] = value instead\n",
      "\n",
      "See the caveats in the documentation: https://pandas.pydata.org/pandas-docs/stable/user_guide/indexing.html#returning-a-view-versus-a-copy\n",
      "  self._setitem_single_column(loc, value, pi)\n"
     ]
    }
   ],
   "source": [
    "# Evaluate the Prediction\n",
    "pty = pt[pt['Year']==p_year]\n",
    "pty.index = pty.Game\n",
    "for x in (1,33):\n",
    "    pty.loc[x, pty['PFScore']] = np.around(PF[x-1],2)"
   ]
  },
  {
   "cell_type": "code",
   "execution_count": null,
   "metadata": {},
   "outputs": [],
   "source": [
    "pty.loc[pty['Round'], 'PUScore'] = np.around(PU,2)"
   ]
  },
  {
   "cell_type": "code",
   "execution_count": 10,
   "metadata": {},
   "outputs": [
    {
     "name": "stdout",
     "output_type": "stream",
     "text": [
      "2008\n"
     ]
    },
    {
     "name": "stderr",
     "output_type": "stream",
     "text": [
      "C:\\Users\\harmk\\AppData\\Local\\Programs\\Python\\Python39\\lib\\site-packages\\pandas\\core\\indexing.py:1684: SettingWithCopyWarning: \n",
      "A value is trying to be set on a copy of a slice from a DataFrame.\n",
      "Try using .loc[row_indexer,col_indexer] = value instead\n",
      "\n",
      "See the caveats in the documentation: https://pandas.pydata.org/pandas-docs/stable/user_guide/indexing.html#returning-a-view-versus-a-copy\n",
      "  self.obj[key] = infer_fill_value(value)\n",
      "C:\\Users\\harmk\\AppData\\Local\\Programs\\Python\\Python39\\lib\\site-packages\\pandas\\core\\indexing.py:1817: SettingWithCopyWarning: \n",
      "A value is trying to be set on a copy of a slice from a DataFrame.\n",
      "Try using .loc[row_indexer,col_indexer] = value instead\n",
      "\n",
      "See the caveats in the documentation: https://pandas.pydata.org/pandas-docs/stable/user_guide/indexing.html#returning-a-view-versus-a-copy\n",
      "  self._setitem_single_column(loc, value, pi)\n"
     ]
    },
    {
     "data": {
      "text/plain": [
       "250.0"
      ]
     },
     "execution_count": 10,
     "metadata": {},
     "output_type": "execute_result"
    }
   ],
   "source": [
    "for x in range(1,33):\n",
    "    pty.loc[x,'AWSeed'] = np.where(pty.loc[x,'AFScore']>=pty.loc[x,'AUScore'],pty.loc[x,'AFSeed'],pty.loc[x,'AUSeed'])\n",
    "    pty.loc[x,'AWTeam'] = np.where(pty.loc[x,'AFScore']>=pty.loc[x,'AUScore'],pty.loc[x,'AFTeam'],pty.loc[x,'AUTeam'])\n",
    "    pty.loc[x,'PWSeed'] = np.where(pty.loc[x,'PFScore']>=pty.loc[x,'PUScore'],pty.loc[x,'PFSeed'],pty.loc[x,'PUSeed'])\n",
    "    pty.loc[x,'PWTeam'] = np.where(pty.loc[x,'PFScore']>=pty.loc[x,'PUScore'],pty.loc[x,'PFTeam'],pty.loc[x,'PUTeam'])\n",
    "    pty.loc[x,'ESPN'] = np.where(pty.loc[x,'AWTeam']==pty.loc[x,'PWTeam'],10,0)\n",
    "print(p_year)\n",
    "pty[pty['Round']==1]['ESPN'].sum()\n"
   ]
  },
  {
   "cell_type": "code",
   "execution_count": 12,
   "metadata": {},
   "outputs": [],
   "source": [
    "pty.to_csv('../data/tal.csv')"
   ]
  }
 ],
 "metadata": {
  "interpreter": {
   "hash": "c168bd907d9edf6e891a59be7f4ab8312caabe41970dca16a2465f9e936d4872"
  },
  "kernelspec": {
   "display_name": "Python 3.9.7 64-bit",
   "language": "python",
   "name": "python3"
  },
  "language_info": {
   "codemirror_mode": {
    "name": "ipython",
    "version": 3
   },
   "file_extension": ".py",
   "mimetype": "text/x-python",
   "name": "python",
   "nbconvert_exporter": "python",
   "pygments_lexer": "ipython3",
   "version": "3.9.7"
  },
  "orig_nbformat": 4
 },
 "nbformat": 4,
 "nbformat_minor": 2
}
