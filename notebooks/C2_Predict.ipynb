{
 "cells": [
  {
   "cell_type": "code",
   "execution_count": null,
   "metadata": {},
   "outputs": [],
   "source": [
    "#https://www.youtube.com/watch?v=xxgOkAt8nMU\n",
    "\n",
    "import pandas as pd\n",
    "import numpy as np\n",
    "\n",
    "\n",
    "AllGames = pd.read_csv(\"B3_AllFandU.csv\")\n",
    "\n",
    "AllGames.info()"
   ]
  },
  {
   "cell_type": "code",
   "execution_count": null,
   "metadata": {},
   "outputs": [],
   "source": [
    "AllGames.isnull().sum().sum()"
   ]
  },
  {
   "cell_type": "code",
   "execution_count": null,
   "metadata": {},
   "outputs": [],
   "source": [
    "AGN = AllGames.select_dtypes(exclude=['object'])\n",
    "AGN.info()\n",
    "AGN.corr()"
   ]
  },
  {
   "cell_type": "code",
   "execution_count": null,
   "metadata": {},
   "outputs": [],
   "source": [
    "import matplotlib.pyplot as plt\n",
    "plt.hist(AllGames['AFScore'])\n",
    "plt.show()"
   ]
  },
  {
   "cell_type": "code",
   "execution_count": null,
   "metadata": {},
   "outputs": [],
   "source": [
    "# Split the dataframe into x and y\n",
    "expl = AGN.drop(['AFScore', 'AUScore'], axis=1)\n",
    "respF = AGN[['Year','AFScore']]\n",
    "respU = AGN[['Year','AUScore']]"
   ]
  },
  {
   "cell_type": "code",
   "execution_count": null,
   "metadata": {},
   "outputs": [],
   "source": [
    "# Pick the train and test sets\n",
    "from random import choice\n",
    "p_year = choice([i for i in range(2008,2021) if i not in [2020]])\n",
    "print(p_year)\n",
    "X_train = expl[expl['Year'] != p_year]\n",
    "y_train_F = respF[respF['Year'] != p_year]['AFScore'].to_numpy() \n",
    "y_train_U = respU[respU['Year'] != p_year]['AUScore'].to_numpy() \n",
    "X_test = expl[expl['Year'] == p_year]\n",
    "y_test_F = respF[respF['Year'] == p_year]['AFScore'].to_numpy()\n",
    "y_test_U = respU[respU['Year'] == p_year]['AUScore'].to_numpy()\n"
   ]
  },
  {
   "cell_type": "code",
   "execution_count": null,
   "metadata": {},
   "outputs": [],
   "source": [
    "y_test_F"
   ]
  },
  {
   "cell_type": "code",
   "execution_count": null,
   "metadata": {},
   "outputs": [],
   "source": [
    "from sklearn.linear_model import ElasticNet\n",
    "enet = ElasticNet()\n",
    "enet.fit(X_train,y_train_F)\n",
    "y_pred_F = enet.predict(X_test)\n",
    "enet.fit(X_train,y_train_U)\n",
    "y_pred_U = enet.predict(X_test)"
   ]
  },
  {
   "cell_type": "code",
   "execution_count": null,
   "metadata": {},
   "outputs": [],
   "source": [
    "actual=(y_test_F - y_test_U >0)"
   ]
  },
  {
   "cell_type": "code",
   "execution_count": null,
   "metadata": {},
   "outputs": [],
   "source": [
    "Pred=(y_pred_F - y_pred_U >0)"
   ]
  },
  {
   "cell_type": "code",
   "execution_count": null,
   "metadata": {},
   "outputs": [],
   "source": [
    "print(p_year)\n",
    "np.sum(actual == Pred)"
   ]
  }
 ],
 "metadata": {
  "interpreter": {
   "hash": "c168bd907d9edf6e891a59be7f4ab8312caabe41970dca16a2465f9e936d4872"
  },
  "kernelspec": {
   "display_name": "Python 3.9.7 64-bit",
   "language": "python",
   "name": "python3"
  },
  "language_info": {
   "codemirror_mode": {
    "name": "ipython",
    "version": 3
   },
   "file_extension": ".py",
   "mimetype": "text/x-python",
   "name": "python",
   "nbconvert_exporter": "python",
   "pygments_lexer": "ipython3",
   "version": "3.9.7"
  },
  "orig_nbformat": 4
 },
 "nbformat": 4,
 "nbformat_minor": 2
}
