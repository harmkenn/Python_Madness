{
 "cells": [
  {
   "cell_type": "code",
   "execution_count": 5,
   "metadata": {},
   "outputs": [],
   "source": [
    "# Scrape KenPom\n",
    "# https://kenpom.com/index.php?y=2008\n",
    "# https://www.kaggle.com/code/walterhan/scrape-kenpom-data\n"
   ]
  },
  {
   "cell_type": "code",
   "execution_count": 6,
   "metadata": {},
   "outputs": [],
   "source": [
    "# Scrape KenPom\n",
    "# https://kenpom.com/index.php?y=2008"
   ]
  },
  {
   "cell_type": "code",
   "execution_count": 7,
   "metadata": {},
   "outputs": [
    {
     "ename": "IndexError",
     "evalue": "list index out of range",
     "output_type": "error",
     "traceback": [
      "\u001b[0;31m---------------------------------------------------------------------------\u001b[0m",
      "\u001b[0;31mIndexError\u001b[0m                                Traceback (most recent call last)",
      "Cell \u001b[0;32mIn [7], line 43\u001b[0m\n\u001b[1;32m     40\u001b[0m df \u001b[39m=\u001b[39m \u001b[39mNone\u001b[39;00m\n\u001b[1;32m     41\u001b[0m \u001b[39mfor\u001b[39;00m x \u001b[39min\u001b[39;00m years:\n\u001b[1;32m     42\u001b[0m     df \u001b[39m=\u001b[39m pd\u001b[39m.\u001b[39mconcat( (df, import_raw_year(x)), axis\u001b[39m=\u001b[39m\u001b[39m0\u001b[39m) \\\n\u001b[0;32m---> 43\u001b[0m         \u001b[39mif\u001b[39;00m df \u001b[39mis\u001b[39;00m \u001b[39mnot\u001b[39;00m \u001b[39mNone\u001b[39;00m \u001b[39melse\u001b[39;00m import_raw_year(\u001b[39m2002\u001b[39m)\n\u001b[1;32m     45\u001b[0m \u001b[39m# Column rename based off of original website\u001b[39;00m\n\u001b[1;32m     46\u001b[0m df\u001b[39m.\u001b[39mcolumns \u001b[39m=\u001b[39m [\u001b[39m'\u001b[39m\u001b[39mRank\u001b[39m\u001b[39m'\u001b[39m, \u001b[39m'\u001b[39m\u001b[39mTeam\u001b[39m\u001b[39m'\u001b[39m, \u001b[39m'\u001b[39m\u001b[39mConference\u001b[39m\u001b[39m'\u001b[39m, \u001b[39m'\u001b[39m\u001b[39mW-L\u001b[39m\u001b[39m'\u001b[39m, \u001b[39m'\u001b[39m\u001b[39mPyth\u001b[39m\u001b[39m'\u001b[39m, \n\u001b[1;32m     47\u001b[0m              \u001b[39m'\u001b[39m\u001b[39mAdjustO\u001b[39m\u001b[39m'\u001b[39m, \u001b[39m'\u001b[39m\u001b[39mAdjustO Rank\u001b[39m\u001b[39m'\u001b[39m, \u001b[39m'\u001b[39m\u001b[39mAdjustD\u001b[39m\u001b[39m'\u001b[39m, \u001b[39m'\u001b[39m\u001b[39mAdjustD Rank\u001b[39m\u001b[39m'\u001b[39m,\n\u001b[1;32m     48\u001b[0m              \u001b[39m'\u001b[39m\u001b[39mAdjustT\u001b[39m\u001b[39m'\u001b[39m, \u001b[39m'\u001b[39m\u001b[39mAdjustT Rank\u001b[39m\u001b[39m'\u001b[39m, \u001b[39m'\u001b[39m\u001b[39mLuck\u001b[39m\u001b[39m'\u001b[39m, \u001b[39m'\u001b[39m\u001b[39mLuck Rank\u001b[39m\u001b[39m'\u001b[39m, \n\u001b[1;32m     49\u001b[0m              \u001b[39m'\u001b[39m\u001b[39mSOS Pyth\u001b[39m\u001b[39m'\u001b[39m, \u001b[39m'\u001b[39m\u001b[39mSOS Pyth Rank\u001b[39m\u001b[39m'\u001b[39m, \u001b[39m'\u001b[39m\u001b[39mSOS OppO\u001b[39m\u001b[39m'\u001b[39m, \u001b[39m'\u001b[39m\u001b[39mSOS OppO Rank\u001b[39m\u001b[39m'\u001b[39m,\n\u001b[1;32m     50\u001b[0m              \u001b[39m'\u001b[39m\u001b[39mSOS OppD\u001b[39m\u001b[39m'\u001b[39m, \u001b[39m'\u001b[39m\u001b[39mSOS OppD Rank\u001b[39m\u001b[39m'\u001b[39m, \u001b[39m'\u001b[39m\u001b[39mNCSOS Pyth\u001b[39m\u001b[39m'\u001b[39m, \u001b[39m'\u001b[39m\u001b[39mNCSOS Pyth Rank\u001b[39m\u001b[39m'\u001b[39m, \u001b[39m'\u001b[39m\u001b[39mYear\u001b[39m\u001b[39m'\u001b[39m]\n",
      "Cell \u001b[0;32mIn [7], line 28\u001b[0m, in \u001b[0;36mimport_raw_year\u001b[0;34m(year)\u001b[0m\n\u001b[1;32m     22\u001b[0m table_html \u001b[39m=\u001b[39m soup\u001b[39m.\u001b[39mfind_all(\u001b[39m'\u001b[39m\u001b[39mtable\u001b[39m\u001b[39m'\u001b[39m, {\u001b[39m'\u001b[39m\u001b[39mid\u001b[39m\u001b[39m'\u001b[39m: \u001b[39m'\u001b[39m\u001b[39mratings-table\u001b[39m\u001b[39m'\u001b[39m})\n\u001b[1;32m     24\u001b[0m \u001b[39m# Weird issue w/ <thead> in the html\u001b[39;00m\n\u001b[1;32m     25\u001b[0m \u001b[39m# Prevents us from just using pd.read_html\u001b[39;00m\n\u001b[1;32m     26\u001b[0m \u001b[39m# Let's find all the thead contents and just replace/remove them\u001b[39;00m\n\u001b[1;32m     27\u001b[0m \u001b[39m# This allows us to easily put the table row data into a dataframe using panda\u001b[39;00m\n\u001b[0;32m---> 28\u001b[0m thead \u001b[39m=\u001b[39m table_html[\u001b[39m0\u001b[39;49m]\u001b[39m.\u001b[39mfind_all(\u001b[39m'\u001b[39m\u001b[39mthead\u001b[39m\u001b[39m'\u001b[39m)\n\u001b[1;32m     30\u001b[0m table \u001b[39m=\u001b[39m table_html[\u001b[39m0\u001b[39m]\n\u001b[1;32m     31\u001b[0m \u001b[39mfor\u001b[39;00m x \u001b[39min\u001b[39;00m thead:\n",
      "\u001b[0;31mIndexError\u001b[0m: list index out of range"
     ]
    }
   ],
   "source": [
    "from bs4 import BeautifulSoup\n",
    "import requests\n",
    "import pandas as pd\n",
    "import numpy as np\n",
    "import re\n",
    "\n",
    "# Base url, and a lambda func to return url for a given year\n",
    "base_url = 'http://kenpom.com/index.php'\n",
    "url_year = lambda x: '%s?y=%s' % (base_url, str(x) if x != 2016 else base_url)\n",
    "\n",
    "# Years on kenpom's site (could also scrape this and \n",
    "# set as a list if you want to be more dynamic)\n",
    "years = range(2002, 2017)\n",
    "\n",
    "# Create a method that parses a given year and spits out a raw dataframe\n",
    "def import_raw_year(year):\n",
    "    \"\"\"\n",
    "    Imports raw data from a ken pom year into a dataframe\n",
    "    \"\"\"\n",
    "    f = requests.get(url_year(year))\n",
    "    soup = BeautifulSoup(f.text)\n",
    "    table_html = soup.find_all('table', {'id': 'ratings-table'})\n",
    "\n",
    "    # Weird issue w/ <thead> in the html\n",
    "    # Prevents us from just using pd.read_html\n",
    "    # Let's find all the thead contents and just replace/remove them\n",
    "    # This allows us to easily put the table row data into a dataframe using panda\n",
    "    thead = table_html[0].find_all('thead')\n",
    "\n",
    "    table = table_html[0]\n",
    "    for x in thead:\n",
    "        table = str(table).replace(str(x), '')\n",
    "\n",
    "    df = pd.read_html(table)[0]\n",
    "    df['year'] = year\n",
    "    return df\n",
    "    \n",
    "\n",
    "# Import all the years into a singular dataframe\n",
    "df = None\n",
    "for x in years:\n",
    "    df = pd.concat( (df, import_raw_year(x)), axis=0) \\\n",
    "        if df is not None else import_raw_year(2002)\n",
    "\n",
    "# Column rename based off of original website\n",
    "df.columns = ['Rank', 'Team', 'Conference', 'W-L', 'Pyth', \n",
    "             'AdjustO', 'AdjustO Rank', 'AdjustD', 'AdjustD Rank',\n",
    "             'AdjustT', 'AdjustT Rank', 'Luck', 'Luck Rank', \n",
    "             'SOS Pyth', 'SOS Pyth Rank', 'SOS OppO', 'SOS OppO Rank',\n",
    "             'SOS OppD', 'SOS OppD Rank', 'NCSOS Pyth', 'NCSOS Pyth Rank', 'Year']\n",
    "             \n",
    "# Lambda that returns true if given string is a number and a valid seed number (1-16)\n",
    "valid_seed = lambda x: True if str(x).replace(' ', '').isdigit() \\\n",
    "                and int(x) > 0 and int(x) <= 16 else False\n",
    "\n",
    "# Use lambda to parse out seed/team\n",
    "df['Seed'] = df['Team'].apply(lambda x: x[-2:].replace(' ', '') \\\n",
    "                              if valid_seed(x[-2:]) else np.nan )\n",
    "\n",
    "df['Team'] = df['Team'].apply(lambda x: x[:-2] if valid_seed(x[-2:]) else x)\n",
    "\n",
    "# Split W-L column into wins and losses\n",
    "df['Wins'] = df['W-L'].apply(lambda x: int(re.sub('-.*', '', x)) )\n",
    "df['Losses'] = df['W-L'].apply(lambda x: int(re.sub('.*-', '', x)) )\n",
    "df.drop('W-L', inplace=True, axis=1)\n",
    "\n",
    "\n",
    "# Reorder columns just cause I'm OCD\n",
    "df=df[[ 'Year', 'Rank', 'Team', 'Conference', 'Wins', 'Losses', 'Seed','Pyth', \n",
    "             'AdjustO', 'AdjustO Rank', 'AdjustD', 'AdjustD Rank',\n",
    "             'AdjustT', 'AdjustT Rank', 'Luck', 'Luck Rank', \n",
    "             'SOS Pyth', 'SOS Pyth Rank', 'SOS OppO', 'SOS OppO Rank',\n",
    "             'SOS OppD', 'SOS OppD Rank', 'NCSOS Pyth', 'NCSOS Pyth Rank']]\n",
    "             \n",
    "df.head(25)"
   ]
  }
 ],
 "metadata": {
  "kernelspec": {
   "display_name": "Python 3",
   "language": "python",
   "name": "python3"
  },
  "language_info": {
   "codemirror_mode": {
    "name": "ipython",
    "version": 3
   },
   "file_extension": ".py",
   "mimetype": "text/x-python",
   "name": "python",
   "nbconvert_exporter": "python",
   "pygments_lexer": "ipython3",
   "version": "3.8.13 (default, Oct  4 2022, 14:00:32) \n[GCC 9.4.0]"
  },
  "orig_nbformat": 4,
  "vscode": {
   "interpreter": {
    "hash": "9ac03a0a6051494cc606d484d27d20fce22fb7b4d169f583271e11d5ba46a56e"
   }
  }
 },
 "nbformat": 4,
 "nbformat_minor": 2
}
