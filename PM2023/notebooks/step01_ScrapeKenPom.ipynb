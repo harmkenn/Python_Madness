{
 "cells": [
  {
   "cell_type": "code",
   "execution_count": 17,
   "metadata": {},
   "outputs": [],
   "source": [
    "# Scrape KenPom\n",
    "# https://kenpom.com/index.php?y=2008\n",
    "# https://www.kaggle.com/code/walterhan/scrape-kenpom-data\n",
    "# https://www.geeksforgeeks.org/scrape-tables-from-any-website-using-python/\n",
    "# https://medium.com/analytics-vidhya/how-to-scrape-a-table-from-website-using-python-ce90d0cfb607\n"
   ]
  },
  {
   "cell_type": "code",
   "execution_count": 75,
   "metadata": {},
   "outputs": [
    {
     "ename": "TypeError",
     "evalue": "object of type 'Response' has no len()",
     "output_type": "error",
     "traceback": [
      "\u001b[1;31m---------------------------------------------------------------------------\u001b[0m",
      "\u001b[1;31mTypeError\u001b[0m                                 Traceback (most recent call last)",
      "Cell \u001b[1;32mIn [75], line 10\u001b[0m\n\u001b[0;32m      8\u001b[0m url \u001b[39m=\u001b[39m \u001b[39mf\u001b[39m\u001b[39m'\u001b[39m\u001b[39mhttps://kenpom.com/index.php?y=\u001b[39m\u001b[39m{\u001b[39;00my\u001b[39m}\u001b[39;00m\u001b[39m'\u001b[39m\n\u001b[0;32m      9\u001b[0m html \u001b[39m=\u001b[39m requests\u001b[39m.\u001b[39mget(url)\n\u001b[1;32m---> 10\u001b[0m soup \u001b[39m=\u001b[39m bs(html, \u001b[39m\"\u001b[39;49m\u001b[39mhtml.parser\u001b[39;49m\u001b[39m\"\u001b[39;49m)\n\u001b[0;32m     11\u001b[0m table \u001b[39m=\u001b[39m soup\u001b[39m.\u001b[39mfind(\u001b[39m'\u001b[39m\u001b[39mtable\u001b[39m\u001b[39m'\u001b[39m, attrs\u001b[39m=\u001b[39m{\u001b[39m'\u001b[39m\u001b[39mclass\u001b[39m\u001b[39m'\u001b[39m:\u001b[39m'\u001b[39m\u001b[39msubs noBorders evenRows\u001b[39m\u001b[39m'\u001b[39m})\n\u001b[0;32m     12\u001b[0m table_rows \u001b[39m=\u001b[39m table\u001b[39m.\u001b[39mfind_all(\u001b[39m'\u001b[39m\u001b[39mtr\u001b[39m\u001b[39m'\u001b[39m)\n",
      "File \u001b[1;32mc:\\Users\\harmk\\AppData\\Local\\Programs\\Python\\Python310\\lib\\site-packages\\bs4\\__init__.py:313\u001b[0m, in \u001b[0;36mBeautifulSoup.__init__\u001b[1;34m(self, markup, features, builder, parse_only, from_encoding, exclude_encodings, element_classes, **kwargs)\u001b[0m\n\u001b[0;32m    311\u001b[0m \u001b[39mif\u001b[39;00m \u001b[39mhasattr\u001b[39m(markup, \u001b[39m'\u001b[39m\u001b[39mread\u001b[39m\u001b[39m'\u001b[39m):        \u001b[39m# It's a file-type object.\u001b[39;00m\n\u001b[0;32m    312\u001b[0m     markup \u001b[39m=\u001b[39m markup\u001b[39m.\u001b[39mread()\n\u001b[1;32m--> 313\u001b[0m \u001b[39melif\u001b[39;00m \u001b[39mlen\u001b[39;49m(markup) \u001b[39m<\u001b[39m\u001b[39m=\u001b[39m \u001b[39m256\u001b[39m \u001b[39mand\u001b[39;00m (\n\u001b[0;32m    314\u001b[0m         (\u001b[39misinstance\u001b[39m(markup, \u001b[39mbytes\u001b[39m) \u001b[39mand\u001b[39;00m \u001b[39mnot\u001b[39;00m \u001b[39mb\u001b[39m\u001b[39m'\u001b[39m\u001b[39m<\u001b[39m\u001b[39m'\u001b[39m \u001b[39min\u001b[39;00m markup)\n\u001b[0;32m    315\u001b[0m         \u001b[39mor\u001b[39;00m (\u001b[39misinstance\u001b[39m(markup, \u001b[39mstr\u001b[39m) \u001b[39mand\u001b[39;00m \u001b[39mnot\u001b[39;00m \u001b[39m'\u001b[39m\u001b[39m<\u001b[39m\u001b[39m'\u001b[39m \u001b[39min\u001b[39;00m markup)\n\u001b[0;32m    316\u001b[0m ):\n\u001b[0;32m    317\u001b[0m     \u001b[39m# Issue warnings for a couple beginner problems\u001b[39;00m\n\u001b[0;32m    318\u001b[0m     \u001b[39m# involving passing non-markup to Beautiful Soup.\u001b[39;00m\n\u001b[0;32m    319\u001b[0m     \u001b[39m# Beautiful Soup will still parse the input as markup,\u001b[39;00m\n\u001b[0;32m    320\u001b[0m     \u001b[39m# since that is sometimes the intended behavior.\u001b[39;00m\n\u001b[0;32m    321\u001b[0m     \u001b[39mif\u001b[39;00m \u001b[39mnot\u001b[39;00m \u001b[39mself\u001b[39m\u001b[39m.\u001b[39m_markup_is_url(markup):\n\u001b[0;32m    322\u001b[0m         \u001b[39mself\u001b[39m\u001b[39m.\u001b[39m_markup_resembles_filename(markup)                \n",
      "\u001b[1;31mTypeError\u001b[0m: object of type 'Response' has no len()"
     ]
    }
   ],
   "source": [
    "from bs4 import BeautifulSoup as bs\n",
    "import requests\n",
    "import pandas as pd\n",
    "import numpy as np\n",
    "\n",
    "y = 2008\n",
    "\n",
    "url = f'https://kenpom.com/index.php?y={y}'\n",
    "html = requests.get(url)\n",
    "soup = bs(html, \"html.parser\")\n",
    "table = soup.find('table', attrs={'class':'subs noBorders evenRows'})\n",
    "table_rows = table.find_all('tr')\n",
    "\n",
    "res = []\n",
    "for tr in table_rows:\n",
    "    td = tr.find_all('td')\n",
    "    row = [tr.text.strip() for tr in td if tr.text.strip()]\n",
    "    if row:\n",
    "        res.append(row)\n",
    "\n",
    "\n",
    "\n",
    "\n",
    "\n"
   ]
  },
  {
   "cell_type": "code",
   "execution_count": 66,
   "metadata": {},
   "outputs": [
    {
     "ename": "AttributeError",
     "evalue": "'NoneType' object has no attribute 'tbody'",
     "output_type": "error",
     "traceback": [
      "\u001b[1;31m---------------------------------------------------------------------------\u001b[0m",
      "\u001b[1;31mAttributeError\u001b[0m                            Traceback (most recent call last)",
      "Cell \u001b[1;32mIn [66], line 16\u001b[0m\n\u001b[0;32m     13\u001b[0m soup \u001b[39m=\u001b[39m BeautifulSoup(data, \u001b[39m'\u001b[39m\u001b[39mhtml.parser\u001b[39m\u001b[39m'\u001b[39m)\n\u001b[0;32m     14\u001b[0m table \u001b[39m=\u001b[39m soup\u001b[39m.\u001b[39mfind(\u001b[39m'\u001b[39m\u001b[39mtable\u001b[39m\u001b[39m'\u001b[39m, class_\u001b[39m=\u001b[39m\u001b[39mNone\u001b[39;00m)\n\u001b[1;32m---> 16\u001b[0m \u001b[39mfor\u001b[39;00m row \u001b[39min\u001b[39;00m table\u001b[39m.\u001b[39;49mtbody\u001b[39m.\u001b[39mfind_all(\u001b[39m'\u001b[39m\u001b[39mtr\u001b[39m\u001b[39m'\u001b[39m):    \n\u001b[0;32m     17\u001b[0m     \u001b[39m# Find all data for each column\u001b[39;00m\n\u001b[0;32m     18\u001b[0m     columns \u001b[39m=\u001b[39m row\u001b[39m.\u001b[39mfind_all(\u001b[39m'\u001b[39m\u001b[39mtd\u001b[39m\u001b[39m'\u001b[39m)\n\u001b[0;32m     20\u001b[0m     \u001b[39mif\u001b[39;00m(columns \u001b[39m!=\u001b[39m []):\n",
      "\u001b[1;31mAttributeError\u001b[0m: 'NoneType' object has no attribute 'tbody'"
     ]
    }
   ],
   "source": [
    "from bs4 import BeautifulSoup\n",
    "import requests\n",
    "import pandas as pd\n",
    "import numpy as np\n",
    "\n",
    "season = np.arange(2008,2023,1)\n",
    "season = season[(season ==2022)]\n",
    "allkp = pd.read_csv('A3_kenpom.csv')\n",
    "allkp = allkp[allkp['Year']<=2021]\n",
    "for y in season:\n",
    "    url = f'https://kenpom.com/index.php?y={y}'\n",
    "    data = requests.get(url).text\n",
    "    soup = BeautifulSoup(data, 'html.parser')\n",
    "    table = soup.find('table', class_=None)\n",
    "    \n",
    "    for row in table.tbody.find_all('tr'):    \n",
    "        # Find all data for each column\n",
    "        columns = row.find_all('td')\n",
    "        \n",
    "        if(columns != []):\n",
    "            \n",
    "            Team = columns[1].text.strip()\n",
    "            Conf = columns[2].text.strip()\n",
    "            \n",
    "            AdjEM = columns[4].text.strip()\n",
    "            AdjO = columns[5].text.strip()\n",
    "            AdjD = columns[7].text.strip()\n",
    "            AdjT = columns[9].text.strip()\n",
    "            SOSEM = columns[13].text.strip()\n",
    "            SOSO = columns[15].text.strip()\n",
    "            SOSD = columns[17].text.strip()\n",
    "\n",
    "            allkp = allkp.append({'Year':y,'Team': Team,'Conf':Conf,'AdjEM':AdjEM,'AdjO':AdjO,'AdjD':AdjD,'AdjT':AdjT,'SOSEM':SOSEM,'SOSO':SOSO,'SOSD':SOSD}, ignore_index=True)\n",
    "            allkp['Team'] = allkp['Team'].str.replace('\\d+','').str.rstrip()\n",
    "allkp.to_csv('A3_kenpom.csv',index=False)\n"
   ]
  }
 ],
 "metadata": {
  "kernelspec": {
   "display_name": "Python 3",
   "language": "python",
   "name": "python3"
  },
  "language_info": {
   "codemirror_mode": {
    "name": "ipython",
    "version": 3
   },
   "file_extension": ".py",
   "mimetype": "text/x-python",
   "name": "python",
   "nbconvert_exporter": "python",
   "pygments_lexer": "ipython3",
   "version": "3.10.7"
  },
  "orig_nbformat": 4,
  "vscode": {
   "interpreter": {
    "hash": "f627b94a91bc915482d65575b2ea77ee7c3710ea9aacf075a668e3021bd93680"
   }
  }
 },
 "nbformat": 4,
 "nbformat_minor": 2
}
