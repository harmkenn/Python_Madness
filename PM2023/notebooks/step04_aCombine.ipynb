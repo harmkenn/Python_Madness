{
 "cells": [
  {
   "cell_type": "code",
   "execution_count": 32,
   "metadata": {},
   "outputs": [
    {
     "data": {
      "text/plain": [
       "[]"
      ]
     },
     "execution_count": 32,
     "metadata": {},
     "output_type": "execute_result"
    }
   ],
   "source": [
    "#Make Kenpom the standard team names\n",
    "import pandas as pd\n",
    "import numpy as np\n",
    "\n",
    "KP = pd.read_csv('step01_kenpom0823.csv')\n",
    "repair = pd.read_csv('step04_repair.csv')\n",
    "LF = list(repair['tofix'])\n",
    "LR = list(repair['replacewith'])\n",
    "KP['Team'] = KP['Team'].replace(LF,LR)\n",
    "KP = KP[KP['Team']!='out']\n",
    "sn = KP[KP['Year']==2023].sort_values('Team')['Team'].unique()\n",
    "KPN = KP.sort_values('Team')['Team'].unique()\n",
    "KP2fix = list(set(KPN) - set(sn))\n",
    "KP.to_csv('step01_kenpom0823.csv',index=False)\n",
    "KP2fix"
   ]
  },
  {
   "cell_type": "code",
   "execution_count": 30,
   "metadata": {},
   "outputs": [
    {
     "data": {
      "text/plain": [
       "[]"
      ]
     },
     "execution_count": 30,
     "metadata": {},
     "output_type": "execute_result"
    }
   ],
   "source": [
    "# Make ESPN BPI Name match Kep Pom\n",
    "BPI = pd.read_csv('step02_espnbpi0823.csv')\n",
    "BPI['Team'] = BPI['Team'].replace({'State':'St.'}, regex=True)\n",
    "BPI['Team'] = BPI['Team'].replace(LF,LR)\n",
    "BPI = BPI[BPI['Team']!='out']\n",
    "BPIN = BPI['Team'].unique()\n",
    "BPI2fix = list(set(BPIN) - set(sn))\n",
    "\n",
    "BPI.to_csv('step02_espnbpi0823.csv',index=False)\n",
    "BPI2fix"
   ]
  },
  {
   "cell_type": "code",
   "execution_count": 33,
   "metadata": {},
   "outputs": [
    {
     "data": {
      "text/plain": [
       "[]"
      ]
     },
     "execution_count": 33,
     "metadata": {},
     "output_type": "execute_result"
    }
   ],
   "source": [
    "# Make Baskebal Reference Team Names match Ken Pom\n",
    "BR = pd.read_csv(\"step03_br0823.csv\")\n",
    "BR['Team'] = BR['Team'].replace({'State':'St.'}, regex=True)\n",
    "BR['Team'] = BR['Team'].replace(LF,LR)\n",
    "BR = BR[BR['Team']!='out']\n",
    "BRN = BR['Team'].unique()\n",
    "BR2fix = list(set(BRN) - set(sn))\n",
    "\n",
    "BR.to_csv('step03_br0823.csv',index=False)\n",
    "BR2fix"
   ]
  }
 ],
 "metadata": {
  "kernelspec": {
   "display_name": "Python 3",
   "language": "python",
   "name": "python3"
  },
  "language_info": {
   "codemirror_mode": {
    "name": "ipython",
    "version": 3
   },
   "file_extension": ".py",
   "mimetype": "text/x-python",
   "name": "python",
   "nbconvert_exporter": "python",
   "pygments_lexer": "ipython3",
   "version": "3.10.7"
  },
  "orig_nbformat": 4,
  "vscode": {
   "interpreter": {
    "hash": "f627b94a91bc915482d65575b2ea77ee7c3710ea9aacf075a668e3021bd93680"
   }
  }
 },
 "nbformat": 4,
 "nbformat_minor": 2
}
