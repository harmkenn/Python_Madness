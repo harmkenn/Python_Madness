{
 "cells": [
  {
   "cell_type": "code",
   "execution_count": 12,
   "metadata": {},
   "outputs": [],
   "source": [
    "# scrape 2009 to 2025\n",
    "\n",
    "from selenium import webdriver\n",
    "from selenium.webdriver.common.by import By\n",
    "from selenium.webdriver.support.ui import WebDriverWait\n",
    "from selenium.webdriver.support import expected_conditions as EC\n",
    "from selenium.webdriver.chrome.service import Service\n",
    "from webdriver_manager.chrome import ChromeDriverManager\n",
    "import pandas as pd\n",
    "import io\n",
    "\n",
    "service = Service(ChromeDriverManager().install())\n",
    "driver = webdriver.Chrome(service=service)\n",
    "def remove_trailing_space_or_digit(text):\n",
    "    while text and (text[-1].isspace() or text[-1].isdigit()):\n",
    "        text = text[:-1]\n",
    "    return text\n",
    "\n",
    "b = 2024\n",
    "\n",
    "kenpom = pd.read_csv('step01c_kenpom0824.csv')\n",
    "kenpom = kenpom[kenpom['Year']<b]\n",
    "\n",
    "for y in range(b,2026):\n",
    "\n",
    "    driver.get(f'https://kenpom.com/index.php?y={y}')\n",
    "    driver.maximize_window()\n",
    "    element = WebDriverWait(driver, 1000).until(EC.presence_of_element_located((By.XPATH, \"//table\")))\n",
    "    with io.StringIO(driver.page_source) as f:\n",
    "        df = pd.read_html(f)[0]\n",
    "    df['Year'] = y\n",
    "    #df.columns = df.columns.droplevel(list(range(18)))\n",
    "    new_columns = ['Rank', 'Team', 'Conf', 'W-L', 'NetRtg', 'ORtg', 'rk','DRtg','rk','AdjT'\n",
    "                    ,'rk','Luck','rk','Luck','rk','Luck','rk','Luck','rk','Luck','rk','Year']  # create a list of new column names\n",
    "    df.columns = new_columns\n",
    "    columns_to_keep = ['Year','Team', 'Conf', 'NetRtg', 'ORtg', 'DRtg','AdjT']  # create a list of column names to keep\n",
    "    df = df.loc[:, columns_to_keep]\n",
    "\n",
    "    # Apply the lambda function to the 'A' column\n",
    "    df['Team'] = df['Team'].apply(remove_trailing_space_or_digit)\n",
    "\n",
    "    # assuming kenpom is your main DataFrame\n",
    "    kenpom = pd.concat([kenpom, df], ignore_index=True)\n",
    "\n",
    "kenpom.to_csv('step01d_kenpom0825.csv',index=False)"
   ]
  }
 ],
 "metadata": {
  "kernelspec": {
   "display_name": "Python 3",
   "language": "python",
   "name": "python3"
  },
  "language_info": {
   "codemirror_mode": {
    "name": "ipython",
    "version": 3
   },
   "file_extension": ".py",
   "mimetype": "text/x-python",
   "name": "python",
   "nbconvert_exporter": "python",
   "pygments_lexer": "ipython3",
   "version": "3.12.5"
  }
 },
 "nbformat": 4,
 "nbformat_minor": 2
}
