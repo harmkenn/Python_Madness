{
 "cells": [
  {
   "cell_type": "code",
   "execution_count": 10,
   "metadata": {},
   "outputs": [
    {
     "name": "stdout",
     "output_type": "stream",
     "text": [
      "2025\n"
     ]
    }
   ],
   "source": [
    "# Scrape ESPN BPI 2025 https://www.espn.com/mens-college-basketball/bpi\n",
    "\n",
    "from selenium import webdriver\n",
    "from selenium.webdriver.common.by import By\n",
    "from selenium.webdriver.support.ui import WebDriverWait\n",
    "from selenium.webdriver.support import expected_conditions as EC\n",
    "from selenium.webdriver.chrome.service import Service\n",
    "from webdriver_manager.chrome import ChromeDriverManager\n",
    "import pandas as pd\n",
    "import io\n",
    "import time\n",
    "\n",
    "service = Service(ChromeDriverManager().install())\n",
    "driver = webdriver.Chrome(service=service)\n",
    "\n",
    "y = 2025\n",
    "driver.get(f'https://www.espn.com/mens-college-basketball/bpi/_/season/{y}')\n",
    "driver.maximize_window()\n",
    "time.sleep(10)\n",
    "#element = WebDriverWait(driver, 20).until(EC.presence_of_element_located((By.ID, \"onetrust-accept-btn-handler\"))).click()\n",
    "\n",
    "try:\n",
    "    for _ in range(10):\n",
    "        show_more_link = driver.find_element(By.CSS_SELECTOR, \"a.loadMore__link\")\n",
    "        show_more_link.click()\n",
    "        time.sleep(5)  # wait for the content to load\n",
    "except:\n",
    "    try:\n",
    "        element = WebDriverWait(driver, 1000).until(EC.presence_of_element_located((By.XPATH, \"//table\")))\n",
    "        with io.StringIO(driver.page_source) as f:\n",
    "            df = pd.read_html(f)[0]\n",
    "            df2 = pd.read_html(f)[1]\n",
    "    finally:\n",
    "        \n",
    "        bpi = pd.concat([df, df2], axis=1)\n",
    "        bpi['Year']=y\n",
    "        bpi = bpi.iloc[:,[12,0,6,7]]\n",
    "        bpi.columns = ['Year','Team','BPI(O)','BPI(D)']\n",
    "        print(y)\n",
    "espnBPI = pd.read_csv('step02b_espnbpi0824.csv')\n",
    "espnBPI = espnBPI[espnBPI['Year']<y]   \n",
    "espnBPI = pd.concat([espnBPI,bpi]) \n",
    "\n",
    "espnBPI.to_csv('step02c_espnbpi0825.csv',index=False)      \n",
    "\n",
    "a = espnBPI['Team'].unique()\n",
    "b = pd.DataFrame({'tm':sorted(a)})\n",
    "b.to_csv('bbb.csv',index=False)"
   ]
  }
 ],
 "metadata": {
  "kernelspec": {
   "display_name": "Python 3",
   "language": "python",
   "name": "python3"
  },
  "language_info": {
   "codemirror_mode": {
    "name": "ipython",
    "version": 3
   },
   "file_extension": ".py",
   "mimetype": "text/x-python",
   "name": "python",
   "nbconvert_exporter": "python",
   "pygments_lexer": "ipython3",
   "version": "3.12.5"
  },
  "orig_nbformat": 4,
  "vscode": {
   "interpreter": {
    "hash": "75a0be042a4beffa7bfe652d9ca9055e675071b6b5ebd40357e1d67e4cb4d822"
   }
  }
 },
 "nbformat": 4,
 "nbformat_minor": 2
}
