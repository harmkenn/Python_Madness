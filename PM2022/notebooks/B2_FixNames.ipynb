{
 "cells": [
  {
   "cell_type": "code",
   "execution_count": null,
   "metadata": {},
   "outputs": [],
   "source": [
    "# Make everyon match KenPom\n",
    "\n",
    "import pandas as pd\n",
    "import numpy as np\n",
    "\n",
    "KP = pd.read_csv('../data/A3_kenpom.csv')\n",
    "repair = pd.read_csv('../data/B1_repair.csv')\n",
    "LF = list(repair['tofix'])\n",
    "LR = list(repair['repair'])\n",
    "KP['Team'] = KP['Team'].replace(LF,LR)\n",
    "KP = KP[KP['Team']!='out']\n",
    "sn = KP[KP['Year']==2022]['Team'].unique()\n",
    "KPN = KP['Team'].unique()\n",
    "KP2fix = list(set(KPN) - set(sn))\n",
    "KP.to_csv('../data/A3_kenpom.csv',index=False)\n",
    "KP2fix\n"
   ]
  },
  {
   "cell_type": "code",
   "execution_count": null,
   "metadata": {},
   "outputs": [],
   "source": [
    "Fav = pd.read_csv(\"../data/B1_FavGames.csv\")\n",
    "Fav['AFTeam'] = Fav['AFTeam'].replace(LF,LR)\n",
    "Fav = Fav[Fav['AFTeam']!='out']\n",
    "FavN = Fav['AFTeam'].unique()\n",
    "Fav2fix = list(set(FavN) - set(sn))\n",
    "Fav2fix\n"
   ]
  },
  {
   "cell_type": "code",
   "execution_count": null,
   "metadata": {},
   "outputs": [],
   "source": [
    "Fav['AUTeam'] = Fav['AUTeam'].replace(LF,LR)\n",
    "Fav = Fav[Fav['AUTeam']!='out']\n",
    "FavN = Fav['AUTeam'].unique()\n",
    "Fav2fix = list(set(FavN) - set(sn))\n",
    "Fav.to_csv('../data/B1_FavGames.csv',index=False)\n",
    "Fav"
   ]
  },
  {
   "cell_type": "code",
   "execution_count": null,
   "metadata": {},
   "outputs": [],
   "source": [
    "BPI = pd.read_csv(\"../data/A3_BPI.csv\")\n",
    "BPI['Team'] = BPI['Team'].replace({'State':'St.'}, regex=True)\n",
    "BPI['Team'] = BPI['Team'].replace(LF,LR)\n",
    "BPI = BPI[BPI['Team']!='out']\n",
    "BPIN = BPI['Team'].unique()\n",
    "BPI2fix = list(set(BPIN) - set(sn))\n",
    "\n",
    "BPI.to_csv('../data/A3_BPI.csv',index=False)\n",
    "BPI2fix\n"
   ]
  },
  {
   "cell_type": "code",
   "execution_count": null,
   "metadata": {},
   "outputs": [],
   "source": [
    "BR = pd.read_csv(\"../data/A3_BR.csv\")\n",
    "BR['Team'] = BR['Team'].replace({'State':'St.'}, regex=True)\n",
    "BR['Team'] = BR['Team'].replace(LF,LR)\n",
    "BR = BR[BR['Team']!='out']\n",
    "BRN = BR['Team'].unique()\n",
    "BR2fix = list(set(BRN) - set(sn))\n",
    "\n",
    "BR.to_csv('../data/A3_BR.csv',index=False)\n",
    "BR2fix"
   ]
  },
  {
   "cell_type": "code",
   "execution_count": null,
   "metadata": {},
   "outputs": [],
   "source": [
    "pace = pd.read_csv(\"../data/d3_PASE.csv\")\n",
    "pace.columns = ['Team','PASE']\n",
    "pace['Team'] = pace['Team'].replace(LF,LR)\n",
    "pace = pace[pace['Team']!='out']\n",
    "paceN = pace['Team'].unique()\n",
    "pace2fix = list(set(paceN) - set(sn))\n",
    "\n",
    "pace.to_csv('../data/d3_PASE.csv',index=False)\n",
    "pace2fix"
   ]
  },
  {
   "cell_type": "code",
   "execution_count": null,
   "metadata": {},
   "outputs": [],
   "source": [
    "#Merge KP BPI BR P\n",
    "KPBPI = KP.merge(BPI,how='left', on=['Year','Team'])\n",
    "KPBPIBR = KPBPI.merge(BR, how = 'left', on=['Year','Team'])\n",
    "pase = pd.read_csv('../data/d3_PASE.csv')\n",
    "pase.columns =['Team', 'PASE']\n",
    "KPBPIBRP = KPBPIBR.merge(pase, how = 'left', on = ['Team'])\n",
    "KPBPIBR.to_csv('../data/B3_KPBPIBR.csv',index=False)\n",
    "KPBPIBRP.to_csv('../data/B3_KPBPIBRP.csv',index=False)"
   ]
  },
  {
   "cell_type": "code",
   "execution_count": null,
   "metadata": {},
   "outputs": [],
   "source": [
    "Fav = Fav[Fav['Year']>=2008]\n",
    "AllF = Fav.merge(KPBPIBRP, left_on = ['Year','AFTeam'], right_on = ['Year','Team'], how = 'left')\n",
    "AllFandU = AllF.merge(KPBPIBRP, left_on = ['Year','AUTeam'], right_on = ['Year','Team'], how = 'left')\n",
    "AllFandU = AllFandU.drop(['Team_x','Team_y'],axis=1)\n",
    "AllFandU.to_csv('../data/B3_AllFandU.csv',index=False)"
   ]
  },
  {
   "cell_type": "code",
   "execution_count": null,
   "metadata": {},
   "outputs": [],
   "source": [
    "AllFandU"
   ]
  }
 ],
 "metadata": {
  "kernelspec": {
   "display_name": "Python 3",
   "language": "python",
   "name": "python3"
  },
  "language_info": {
   "codemirror_mode": {
    "name": "ipython",
    "version": 3
   },
   "file_extension": ".py",
   "mimetype": "text/x-python",
   "name": "python",
   "nbconvert_exporter": "python",
   "pygments_lexer": "ipython3",
   "version": "3.10.7 (tags/v3.10.7:6cc6b13, Sep  5 2022, 14:08:36) [MSC v.1933 64 bit (AMD64)]"
  },
  "orig_nbformat": 4,
  "vscode": {
   "interpreter": {
    "hash": "f627b94a91bc915482d65575b2ea77ee7c3710ea9aacf075a668e3021bd93680"
   }
  }
 },
 "nbformat": 4,
 "nbformat_minor": 2
}
