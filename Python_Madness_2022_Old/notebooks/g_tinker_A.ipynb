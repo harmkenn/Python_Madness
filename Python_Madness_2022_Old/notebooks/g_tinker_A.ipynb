{
 "cells": [
  {
   "cell_type": "code",
   "execution_count": 27,
   "metadata": {},
   "outputs": [],
   "source": [
    "#Collect all the games with stats from 2008\n",
    "import pandas as pd\n",
    "import numpy as np\n",
    "pt = pd.read_csv(\"../data/B1_FavGames.csv\")\n",
    "KBBP = pd.read_csv(\"../data/B3_KPBPIBRP.csv\").fillna(0)\n",
    "pt = pt.loc[(pt['Year']>=2008) & (pt['Round'] !='PI')]\n",
    "pt['Round'] = pt['Round'].astype(int)\n",
    "pt = pt.iloc[:,0:10]\n",
    "pt['PFSeed'] = pt['AFSeed']\n",
    "pt['PFTeam'] = pt['AFTeam']\n",
    "pt['PUSeed'] = pt['AUSeed']\n",
    "pt['PUTeam'] = pt['AUTeam']\n",
    "ptf = pt.merge(KBBP, left_on=['Year','PFTeam'],right_on=['Year','Team'],how='left')\n",
    "ptb = ptf.merge(KBBP, left_on=['Year','PUTeam'],right_on=['Year','Team'],how='left')\n"
   ]
  },
  {
   "cell_type": "code",
   "execution_count": 28,
   "metadata": {},
   "outputs": [
    {
     "data": {
      "text/plain": [
       "ElasticNet(alpha=0.2)"
      ]
     },
     "execution_count": 28,
     "metadata": {},
     "output_type": "execute_result"
    }
   ],
   "source": [
    "# Build a model to predict Final Scores\n",
    "ptn = ptb.select_dtypes(exclude=['object'])\n",
    "expl = ptn.drop(['AFScore','AUScore'],axis=1)\n",
    "respF = ptn[['AFScore']]\n",
    "respU = ptn[['AUScore']]\n",
    "from sklearn.linear_model import ElasticNet\n",
    "enet_F = ElasticNet(alpha=.2,l1_ratio=.5)\n",
    "enet_F.fit(expl,respF)\n",
    "enet_U = ElasticNet(alpha=.2,l1_ratio=.5)\n",
    "enet_U.fit(expl,respU)\n"
   ]
  },
  {
   "cell_type": "code",
   "execution_count": 29,
   "metadata": {},
   "outputs": [
    {
     "data": {
      "text/plain": [
       "2015"
      ]
     },
     "execution_count": 29,
     "metadata": {},
     "output_type": "execute_result"
    }
   ],
   "source": [
    "# Pick a random Year\n",
    "from random import choice\n",
    "p_year = choice([i for i in range(2008,2021) if i not in [2020]])\n",
    "p_year"
   ]
  },
  {
   "cell_type": "code",
   "execution_count": 30,
   "metadata": {},
   "outputs": [],
   "source": [
    "# Predict Round 1\n",
    "\n",
    "expl_R1 = expl.loc[(expl['Year'] == p_year) & (expl['Round'] == 1)]\n",
    "\n",
    "respF_R1 = enet_F.predict(expl_R1)\n",
    "respU_R1 = enet_U.predict(expl_R1)\n",
    "fy = pt.loc[(pt['Year']==p_year)].set_index('Game')\n",
    "for x in range(1,33):\n",
    "    fy.loc[x,'PFScore'] = np.around(respF_R1[x-1],3)\n",
    "    fy.loc[x,'PUScore'] = np.around(respU_R1[x-1],3)\n",
    "    fy.loc[x,'AWSeed'] = np.where(fy.loc[x,'AFScore']>=fy.loc[x,'AUScore'],fy.loc[x,'AFSeed'],fy.loc[x,'AUSeed'])\n",
    "    fy.loc[x,'AWTeam'] = np.where(fy.loc[x,'AFScore']>=fy.loc[x,'AUScore'],fy.loc[x,'AFTeam'],fy.loc[x,'AUTeam'])\n",
    "    fy.loc[x,'PWSeed'] = np.where(fy.loc[x,'PFScore']>=fy.loc[x,'PUScore'],fy.loc[x,'PFSeed'],fy.loc[x,'PUSeed'])\n",
    "    fy.loc[x,'PWTeam'] = np.where(fy.loc[x,'PFScore']>=fy.loc[x,'PUScore'],fy.loc[x,'PFTeam'],fy.loc[x,'PUTeam'])\n",
    "    fy.loc[x,'ESPN'] = np.where(fy.loc[x,'AWTeam']==fy.loc[x,'PWTeam'],10,0)"
   ]
  },
  {
   "cell_type": "code",
   "execution_count": 31,
   "metadata": {},
   "outputs": [],
   "source": [
    "# Predict Round 2\n",
    "rpt = pt.loc[(pt['Year']==p_year) & (pt['Round']==2)].set_index('Game')\n",
    "\n",
    "for x in range(1,17):\n",
    "    rpt.loc[x+32,'PFSeed']=min((fy.loc[2*x-1,'PWSeed']),(fy.loc[2*x,'PWSeed']))\n",
    "    rpt.loc[x+32,'PUSeed']=max((fy.loc[2*x-1,'PWSeed']),(fy.loc[2*x,'PWSeed']))\n",
    "    rpt.loc[x+32,'PFTeam']=str(np.where((fy.loc[2*x-1,'PWSeed'])<(fy.loc[2*x,'PWSeed']),fy.loc[2*x-1,'PWTeam'],fy.loc[2*x,'PWTeam']))\n",
    "    rpt.loc[x+32,'PUTeam']=str(np.where((fy.loc[2*x-1,'PWSeed'])>(fy.loc[2*x,'PWSeed']),fy.loc[2*x-1,'PWTeam'],fy.loc[2*x,'PWTeam']))    \n",
    "bbs = KBBP.loc[(KBBP['Year']==p_year)]\n",
    "#rpt['PFTeam'] = rpt['PFTeam'].apply(lambda x: str(x))\n",
    "rptf = rpt.merge(bbs, left_on = 'PFTeam', right_on = 'Team', how = 'left' )\n",
    "rptb = rptf.merge(bbs, left_on = 'PUTeam', right_on = 'Team', how = 'left' )\n",
    "rptn = rptb.select_dtypes(exclude=['object'])\n",
    "expl_R2 = rptn.drop(['AFScore','AUScore','Year_x','Year_y'],axis=1)\n",
    "\n",
    "expl_R2['Game'] = expl_R2.index\n",
    "\n",
    "expl_R2.columns = expl.columns\n",
    "respF_R2 = enet_F.predict(expl_R2)   #This one is too big\n",
    "respU_R2 = enet_U.predict(expl_R2)\n",
    "for x in range(33,49):\n",
    "    fy.loc[x,'PFScore'] = np.around(respF_R2[x-33],3)\n",
    "    fy.loc[x,'PUScore'] = np.around(respU_R2[x-33],3)\n",
    "    fy.loc[x,'AWSeed'] = np.where(fy.loc[x,'AFScore']>=fy.loc[x,'AUScore'],fy.loc[x,'AFSeed'],fy.loc[x,'AUSeed'])\n",
    "    fy.loc[x,'AWTeam'] = np.where(fy.loc[x,'AFScore']>=fy.loc[x,'AUScore'],fy.loc[x,'AFTeam'],fy.loc[x,'AUTeam'])\n",
    "    fy.loc[x,'PWSeed'] = np.where(fy.loc[x,'PFScore']>=fy.loc[x,'PUScore'],fy.loc[x,'PFSeed'],fy.loc[x,'PUSeed'])\n",
    "    fy.loc[x,'PWTeam'] = np.where(fy.loc[x,'PFScore']>=fy.loc[x,'PUScore'],fy.loc[x,'PFTeam'],fy.loc[x,'PUTeam'])\n",
    "    fy.loc[x,'ESPN'] = np.where(fy.loc[x,'AWTeam']==fy.loc[x,'PWTeam'],20,0)"
   ]
  },
  {
   "cell_type": "code",
   "execution_count": 32,
   "metadata": {},
   "outputs": [],
   "source": [
    "fy.to_csv('../data/tal.csv')"
   ]
  }
 ],
 "metadata": {
  "interpreter": {
   "hash": "c168bd907d9edf6e891a59be7f4ab8312caabe41970dca16a2465f9e936d4872"
  },
  "kernelspec": {
   "display_name": "Python 3.9.7 64-bit",
   "language": "python",
   "name": "python3"
  },
  "language_info": {
   "codemirror_mode": {
    "name": "ipython",
    "version": 3
   },
   "file_extension": ".py",
   "mimetype": "text/x-python",
   "name": "python",
   "nbconvert_exporter": "python",
   "pygments_lexer": "ipython3",
   "version": "3.9.7"
  },
  "orig_nbformat": 4
 },
 "nbformat": 4,
 "nbformat_minor": 2
}
